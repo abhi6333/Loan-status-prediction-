{
 "cells": [
  {
   "cell_type": "code",
   "execution_count": 1,
   "id": "64809994-4e0f-44bb-9a52-490e63c99a62",
   "metadata": {},
   "outputs": [],
   "source": [
    "import pandas as pd"
   ]
  },
  {
   "cell_type": "code",
   "execution_count": 2,
   "id": "e80c7c19-5061-4e4a-b236-552f81d27ae7",
   "metadata": {},
   "outputs": [],
   "source": [
    "df = pd.read_csv(\"train_u6lujuX_CVtuZ9i.csv\")"
   ]
  },
  {
   "cell_type": "code",
   "execution_count": 3,
   "id": "6ac518f1-0e5d-4290-96c0-d7b71f8fb336",
   "metadata": {},
   "outputs": [
    {
     "data": {
      "text/html": [
       "<div>\n",
       "<style scoped>\n",
       "    .dataframe tbody tr th:only-of-type {\n",
       "        vertical-align: middle;\n",
       "    }\n",
       "\n",
       "    .dataframe tbody tr th {\n",
       "        vertical-align: top;\n",
       "    }\n",
       "\n",
       "    .dataframe thead th {\n",
       "        text-align: right;\n",
       "    }\n",
       "</style>\n",
       "<table border=\"1\" class=\"dataframe\">\n",
       "  <thead>\n",
       "    <tr style=\"text-align: right;\">\n",
       "      <th></th>\n",
       "      <th>Loan_ID</th>\n",
       "      <th>Gender</th>\n",
       "      <th>Married</th>\n",
       "      <th>Dependents</th>\n",
       "      <th>Education</th>\n",
       "      <th>Self_Employed</th>\n",
       "      <th>ApplicantIncome</th>\n",
       "      <th>CoapplicantIncome</th>\n",
       "      <th>LoanAmount</th>\n",
       "      <th>Loan_Amount_Term</th>\n",
       "      <th>Credit_History</th>\n",
       "      <th>Property_Area</th>\n",
       "      <th>Loan_Status</th>\n",
       "    </tr>\n",
       "  </thead>\n",
       "  <tbody>\n",
       "    <tr>\n",
       "      <th>0</th>\n",
       "      <td>LP001002</td>\n",
       "      <td>Male</td>\n",
       "      <td>No</td>\n",
       "      <td>0</td>\n",
       "      <td>Graduate</td>\n",
       "      <td>No</td>\n",
       "      <td>5849</td>\n",
       "      <td>0.0</td>\n",
       "      <td>NaN</td>\n",
       "      <td>360.0</td>\n",
       "      <td>1.0</td>\n",
       "      <td>Urban</td>\n",
       "      <td>Y</td>\n",
       "    </tr>\n",
       "    <tr>\n",
       "      <th>1</th>\n",
       "      <td>LP001003</td>\n",
       "      <td>Male</td>\n",
       "      <td>Yes</td>\n",
       "      <td>1</td>\n",
       "      <td>Graduate</td>\n",
       "      <td>No</td>\n",
       "      <td>4583</td>\n",
       "      <td>1508.0</td>\n",
       "      <td>128.0</td>\n",
       "      <td>360.0</td>\n",
       "      <td>1.0</td>\n",
       "      <td>Rural</td>\n",
       "      <td>N</td>\n",
       "    </tr>\n",
       "    <tr>\n",
       "      <th>2</th>\n",
       "      <td>LP001005</td>\n",
       "      <td>Male</td>\n",
       "      <td>Yes</td>\n",
       "      <td>0</td>\n",
       "      <td>Graduate</td>\n",
       "      <td>Yes</td>\n",
       "      <td>3000</td>\n",
       "      <td>0.0</td>\n",
       "      <td>66.0</td>\n",
       "      <td>360.0</td>\n",
       "      <td>1.0</td>\n",
       "      <td>Urban</td>\n",
       "      <td>Y</td>\n",
       "    </tr>\n",
       "    <tr>\n",
       "      <th>3</th>\n",
       "      <td>LP001006</td>\n",
       "      <td>Male</td>\n",
       "      <td>Yes</td>\n",
       "      <td>0</td>\n",
       "      <td>Not Graduate</td>\n",
       "      <td>No</td>\n",
       "      <td>2583</td>\n",
       "      <td>2358.0</td>\n",
       "      <td>120.0</td>\n",
       "      <td>360.0</td>\n",
       "      <td>1.0</td>\n",
       "      <td>Urban</td>\n",
       "      <td>Y</td>\n",
       "    </tr>\n",
       "    <tr>\n",
       "      <th>4</th>\n",
       "      <td>LP001008</td>\n",
       "      <td>Male</td>\n",
       "      <td>No</td>\n",
       "      <td>0</td>\n",
       "      <td>Graduate</td>\n",
       "      <td>No</td>\n",
       "      <td>6000</td>\n",
       "      <td>0.0</td>\n",
       "      <td>141.0</td>\n",
       "      <td>360.0</td>\n",
       "      <td>1.0</td>\n",
       "      <td>Urban</td>\n",
       "      <td>Y</td>\n",
       "    </tr>\n",
       "  </tbody>\n",
       "</table>\n",
       "</div>"
      ],
      "text/plain": [
       "    Loan_ID Gender Married Dependents     Education Self_Employed  \\\n",
       "0  LP001002   Male      No          0      Graduate            No   \n",
       "1  LP001003   Male     Yes          1      Graduate            No   \n",
       "2  LP001005   Male     Yes          0      Graduate           Yes   \n",
       "3  LP001006   Male     Yes          0  Not Graduate            No   \n",
       "4  LP001008   Male      No          0      Graduate            No   \n",
       "\n",
       "   ApplicantIncome  CoapplicantIncome  LoanAmount  Loan_Amount_Term  \\\n",
       "0             5849                0.0         NaN             360.0   \n",
       "1             4583             1508.0       128.0             360.0   \n",
       "2             3000                0.0        66.0             360.0   \n",
       "3             2583             2358.0       120.0             360.0   \n",
       "4             6000                0.0       141.0             360.0   \n",
       "\n",
       "   Credit_History Property_Area Loan_Status  \n",
       "0             1.0         Urban           Y  \n",
       "1             1.0         Rural           N  \n",
       "2             1.0         Urban           Y  \n",
       "3             1.0         Urban           Y  \n",
       "4             1.0         Urban           Y  "
      ]
     },
     "execution_count": 3,
     "metadata": {},
     "output_type": "execute_result"
    }
   ],
   "source": [
    "df.head()"
   ]
  },
  {
   "cell_type": "code",
   "execution_count": 4,
   "id": "ebf5b82c-0065-4f08-baf9-ed41c77e2165",
   "metadata": {},
   "outputs": [
    {
     "data": {
      "text/plain": [
       "(614, 13)"
      ]
     },
     "execution_count": 4,
     "metadata": {},
     "output_type": "execute_result"
    }
   ],
   "source": [
    "df.shape"
   ]
  },
  {
   "cell_type": "code",
   "execution_count": 5,
   "id": "ea2c3bb5-e08d-4bf5-99a6-66b490b6e829",
   "metadata": {},
   "outputs": [],
   "source": [
    "df1 = df.copy() # made a copy of data to work on so that the original data is not disturbed"
   ]
  },
  {
   "cell_type": "code",
   "execution_count": 6,
   "id": "b96cf1d5-1f27-4101-bf2a-6748e4e47499",
   "metadata": {},
   "outputs": [
    {
     "data": {
      "text/plain": [
       "(614, 13)"
      ]
     },
     "execution_count": 6,
     "metadata": {},
     "output_type": "execute_result"
    }
   ],
   "source": [
    "df1.shape"
   ]
  },
  {
   "cell_type": "code",
   "execution_count": 7,
   "id": "2bebd463-834a-4ce6-96c1-09a003b1ae33",
   "metadata": {},
   "outputs": [
    {
     "name": "stdout",
     "output_type": "stream",
     "text": [
      "<class 'pandas.core.frame.DataFrame'>\n",
      "RangeIndex: 614 entries, 0 to 613\n",
      "Data columns (total 13 columns):\n",
      " #   Column             Non-Null Count  Dtype  \n",
      "---  ------             --------------  -----  \n",
      " 0   Loan_ID            614 non-null    object \n",
      " 1   Gender             601 non-null    object \n",
      " 2   Married            611 non-null    object \n",
      " 3   Dependents         599 non-null    object \n",
      " 4   Education          614 non-null    object \n",
      " 5   Self_Employed      582 non-null    object \n",
      " 6   ApplicantIncome    614 non-null    int64  \n",
      " 7   CoapplicantIncome  614 non-null    float64\n",
      " 8   LoanAmount         592 non-null    float64\n",
      " 9   Loan_Amount_Term   600 non-null    float64\n",
      " 10  Credit_History     564 non-null    float64\n",
      " 11  Property_Area      614 non-null    object \n",
      " 12  Loan_Status        614 non-null    object \n",
      "dtypes: float64(4), int64(1), object(8)\n",
      "memory usage: 62.5+ KB\n"
     ]
    }
   ],
   "source": [
    "df1.info()"
   ]
  },
  {
   "cell_type": "code",
   "execution_count": 8,
   "id": "04b8c238-cd36-4bf9-a0b1-50f49792431b",
   "metadata": {},
   "outputs": [
    {
     "data": {
      "text/html": [
       "<div>\n",
       "<style scoped>\n",
       "    .dataframe tbody tr th:only-of-type {\n",
       "        vertical-align: middle;\n",
       "    }\n",
       "\n",
       "    .dataframe tbody tr th {\n",
       "        vertical-align: top;\n",
       "    }\n",
       "\n",
       "    .dataframe thead th {\n",
       "        text-align: right;\n",
       "    }\n",
       "</style>\n",
       "<table border=\"1\" class=\"dataframe\">\n",
       "  <thead>\n",
       "    <tr style=\"text-align: right;\">\n",
       "      <th></th>\n",
       "      <th>ApplicantIncome</th>\n",
       "      <th>CoapplicantIncome</th>\n",
       "      <th>LoanAmount</th>\n",
       "      <th>Loan_Amount_Term</th>\n",
       "      <th>Credit_History</th>\n",
       "    </tr>\n",
       "  </thead>\n",
       "  <tbody>\n",
       "    <tr>\n",
       "      <th>count</th>\n",
       "      <td>614.000000</td>\n",
       "      <td>614.000000</td>\n",
       "      <td>592.000000</td>\n",
       "      <td>600.00000</td>\n",
       "      <td>564.000000</td>\n",
       "    </tr>\n",
       "    <tr>\n",
       "      <th>mean</th>\n",
       "      <td>5403.459283</td>\n",
       "      <td>1621.245798</td>\n",
       "      <td>146.412162</td>\n",
       "      <td>342.00000</td>\n",
       "      <td>0.842199</td>\n",
       "    </tr>\n",
       "    <tr>\n",
       "      <th>std</th>\n",
       "      <td>6109.041673</td>\n",
       "      <td>2926.248369</td>\n",
       "      <td>85.587325</td>\n",
       "      <td>65.12041</td>\n",
       "      <td>0.364878</td>\n",
       "    </tr>\n",
       "    <tr>\n",
       "      <th>min</th>\n",
       "      <td>150.000000</td>\n",
       "      <td>0.000000</td>\n",
       "      <td>9.000000</td>\n",
       "      <td>12.00000</td>\n",
       "      <td>0.000000</td>\n",
       "    </tr>\n",
       "    <tr>\n",
       "      <th>25%</th>\n",
       "      <td>2877.500000</td>\n",
       "      <td>0.000000</td>\n",
       "      <td>100.000000</td>\n",
       "      <td>360.00000</td>\n",
       "      <td>1.000000</td>\n",
       "    </tr>\n",
       "    <tr>\n",
       "      <th>50%</th>\n",
       "      <td>3812.500000</td>\n",
       "      <td>1188.500000</td>\n",
       "      <td>128.000000</td>\n",
       "      <td>360.00000</td>\n",
       "      <td>1.000000</td>\n",
       "    </tr>\n",
       "    <tr>\n",
       "      <th>75%</th>\n",
       "      <td>5795.000000</td>\n",
       "      <td>2297.250000</td>\n",
       "      <td>168.000000</td>\n",
       "      <td>360.00000</td>\n",
       "      <td>1.000000</td>\n",
       "    </tr>\n",
       "    <tr>\n",
       "      <th>max</th>\n",
       "      <td>81000.000000</td>\n",
       "      <td>41667.000000</td>\n",
       "      <td>700.000000</td>\n",
       "      <td>480.00000</td>\n",
       "      <td>1.000000</td>\n",
       "    </tr>\n",
       "  </tbody>\n",
       "</table>\n",
       "</div>"
      ],
      "text/plain": [
       "       ApplicantIncome  CoapplicantIncome  LoanAmount  Loan_Amount_Term  \\\n",
       "count       614.000000         614.000000  592.000000         600.00000   \n",
       "mean       5403.459283        1621.245798  146.412162         342.00000   \n",
       "std        6109.041673        2926.248369   85.587325          65.12041   \n",
       "min         150.000000           0.000000    9.000000          12.00000   \n",
       "25%        2877.500000           0.000000  100.000000         360.00000   \n",
       "50%        3812.500000        1188.500000  128.000000         360.00000   \n",
       "75%        5795.000000        2297.250000  168.000000         360.00000   \n",
       "max       81000.000000       41667.000000  700.000000         480.00000   \n",
       "\n",
       "       Credit_History  \n",
       "count      564.000000  \n",
       "mean         0.842199  \n",
       "std          0.364878  \n",
       "min          0.000000  \n",
       "25%          1.000000  \n",
       "50%          1.000000  \n",
       "75%          1.000000  \n",
       "max          1.000000  "
      ]
     },
     "execution_count": 8,
     "metadata": {},
     "output_type": "execute_result"
    }
   ],
   "source": [
    "df1.describe()"
   ]
  },
  {
   "cell_type": "code",
   "execution_count": 9,
   "id": "f6029219-566a-4b3c-9c2e-166cb6fca60d",
   "metadata": {},
   "outputs": [
    {
     "data": {
      "text/html": [
       "<div>\n",
       "<style scoped>\n",
       "    .dataframe tbody tr th:only-of-type {\n",
       "        vertical-align: middle;\n",
       "    }\n",
       "\n",
       "    .dataframe tbody tr th {\n",
       "        vertical-align: top;\n",
       "    }\n",
       "\n",
       "    .dataframe thead th {\n",
       "        text-align: right;\n",
       "    }\n",
       "</style>\n",
       "<table border=\"1\" class=\"dataframe\">\n",
       "  <thead>\n",
       "    <tr style=\"text-align: right;\">\n",
       "      <th></th>\n",
       "      <th>Loan_ID</th>\n",
       "      <th>Gender</th>\n",
       "      <th>Married</th>\n",
       "      <th>Dependents</th>\n",
       "      <th>Education</th>\n",
       "      <th>Self_Employed</th>\n",
       "      <th>Property_Area</th>\n",
       "      <th>Loan_Status</th>\n",
       "    </tr>\n",
       "  </thead>\n",
       "  <tbody>\n",
       "    <tr>\n",
       "      <th>count</th>\n",
       "      <td>614</td>\n",
       "      <td>601</td>\n",
       "      <td>611</td>\n",
       "      <td>599</td>\n",
       "      <td>614</td>\n",
       "      <td>582</td>\n",
       "      <td>614</td>\n",
       "      <td>614</td>\n",
       "    </tr>\n",
       "    <tr>\n",
       "      <th>unique</th>\n",
       "      <td>614</td>\n",
       "      <td>2</td>\n",
       "      <td>2</td>\n",
       "      <td>4</td>\n",
       "      <td>2</td>\n",
       "      <td>2</td>\n",
       "      <td>3</td>\n",
       "      <td>2</td>\n",
       "    </tr>\n",
       "    <tr>\n",
       "      <th>top</th>\n",
       "      <td>LP001002</td>\n",
       "      <td>Male</td>\n",
       "      <td>Yes</td>\n",
       "      <td>0</td>\n",
       "      <td>Graduate</td>\n",
       "      <td>No</td>\n",
       "      <td>Semiurban</td>\n",
       "      <td>Y</td>\n",
       "    </tr>\n",
       "    <tr>\n",
       "      <th>freq</th>\n",
       "      <td>1</td>\n",
       "      <td>489</td>\n",
       "      <td>398</td>\n",
       "      <td>345</td>\n",
       "      <td>480</td>\n",
       "      <td>500</td>\n",
       "      <td>233</td>\n",
       "      <td>422</td>\n",
       "    </tr>\n",
       "  </tbody>\n",
       "</table>\n",
       "</div>"
      ],
      "text/plain": [
       "         Loan_ID Gender Married Dependents Education Self_Employed  \\\n",
       "count        614    601     611        599       614           582   \n",
       "unique       614      2       2          4         2             2   \n",
       "top     LP001002   Male     Yes          0  Graduate            No   \n",
       "freq           1    489     398        345       480           500   \n",
       "\n",
       "       Property_Area Loan_Status  \n",
       "count            614         614  \n",
       "unique             3           2  \n",
       "top        Semiurban           Y  \n",
       "freq             233         422  "
      ]
     },
     "execution_count": 9,
     "metadata": {},
     "output_type": "execute_result"
    }
   ],
   "source": [
    "df1.describe(include=object)"
   ]
  },
  {
   "cell_type": "code",
   "execution_count": 10,
   "id": "0bc07139-730c-47c6-ab67-4280ca7daab1",
   "metadata": {},
   "outputs": [
    {
     "data": {
      "text/plain": [
       "Loan_ID               0\n",
       "Education             0\n",
       "ApplicantIncome       0\n",
       "CoapplicantIncome     0\n",
       "Property_Area         0\n",
       "Loan_Status           0\n",
       "Married               3\n",
       "Gender               13\n",
       "Loan_Amount_Term     14\n",
       "Dependents           15\n",
       "LoanAmount           22\n",
       "Self_Employed        32\n",
       "Credit_History       50\n",
       "dtype: int64"
      ]
     },
     "execution_count": 10,
     "metadata": {},
     "output_type": "execute_result"
    }
   ],
   "source": [
    "df1.isnull().sum().sort_values(ascending= True)"
   ]
  },
  {
   "cell_type": "code",
   "execution_count": 11,
   "id": "01bd8b1f-fcc8-4ee2-a70c-ac7389869a4a",
   "metadata": {},
   "outputs": [],
   "source": [
    "#lets drop the id column as it has no use\n",
    "df1.drop(columns =\"Loan_ID\",axis = 0, inplace= True)"
   ]
  },
  {
   "cell_type": "code",
   "execution_count": 12,
   "id": "c56e4774-7fa3-4bbb-88fa-cc924da857aa",
   "metadata": {},
   "outputs": [],
   "source": [
    "#1st lets plot hte values and see the distribustion of the data"
   ]
  },
  {
   "cell_type": "code",
   "execution_count": 13,
   "id": "80388ff9-9556-4234-b072-187f3d5c8f78",
   "metadata": {},
   "outputs": [],
   "source": [
    "# Univariate analysis"
   ]
  },
  {
   "cell_type": "code",
   "execution_count": 14,
   "id": "d1f858c2-6c8d-43f6-aecc-bd3f4e008784",
   "metadata": {},
   "outputs": [],
   "source": [
    "import seaborn as sns\n",
    "import matplotlib.pyplot as plt"
   ]
  },
  {
   "cell_type": "code",
   "execution_count": 15,
   "id": "343b90f8-9a46-4a57-8f7f-a1c947a9dc3e",
   "metadata": {},
   "outputs": [
    {
     "data": {
      "text/plain": [
       "(array([533.,  59.,  15.,   0.,   4.,   0.,   1.,   1.,   0.,   1.]),\n",
       " array([  150.,  8235., 16320., 24405., 32490., 40575., 48660., 56745.,\n",
       "        64830., 72915., 81000.]),\n",
       " <BarContainer object of 10 artists>)"
      ]
     },
     "execution_count": 15,
     "metadata": {},
     "output_type": "execute_result"
    },
    {
     "data": {
      "image/png": "[encoded data removed]",
      "text/plain": [
       "<Figure size 720x360 with 1 Axes>"
      ]
     },
     "metadata": {
      "needs_background": "light"
     },
     "output_type": "display_data"
    }
   ],
   "source": [
    "# for the continues varibles\n",
    "fig = plt.figure(figsize = (10, 5))\n",
    "plt.hist(df1[\"ApplicantIncome\"])\n",
    "\n"
   ]
  },
  {
   "cell_type": "code",
   "execution_count": 16,
   "id": "602fa6fa-b39a-4ce2-8e51-e2857ab90b2e",
   "metadata": {},
   "outputs": [
    {
     "data": {
      "text/plain": [
       "(array([561.,  46.,   3.,   0.,   2.,   0.,   0.,   0.,   1.,   1.]),\n",
       " array([    0. ,  4166.7,  8333.4, 12500.1, 16666.8, 20833.5, 25000.2,\n",
       "        29166.9, 33333.6, 37500.3, 41667. ]),\n",
       " <BarContainer object of 10 artists>)"
      ]
     },
     "execution_count": 16,
     "metadata": {},
     "output_type": "execute_result"
    },
    {
     "data": {
      "image/png": "[encoded data removed]",
      "text/plain": [
       "<Figure size 720x360 with 1 Axes>"
      ]
     },
     "metadata": {
      "needs_background": "light"
     },
     "output_type": "display_data"
    }
   ],
   "source": [
    "fig = plt.figure(figsize = (10, 5))\n",
    "plt.hist(df1[\"CoapplicantIncome\"])\n"
   ]
  },
  {
   "cell_type": "code",
   "execution_count": 17,
   "id": "bf343c74-9b12-49a2-b700-b8cb907c95c6",
   "metadata": {},
   "outputs": [
    {
     "data": {
      "text/plain": [
       "(array([ 72., 310., 143.,  33.,  15.,   6.,   5.,   3.,   3.,   2.]),\n",
       " array([  9. ,  78.1, 147.2, 216.3, 285.4, 354.5, 423.6, 492.7, 561.8,\n",
       "        630.9, 700. ]),\n",
       " <BarContainer object of 10 artists>)"
      ]
     },
     "execution_count": 17,
     "metadata": {},
     "output_type": "execute_result"
    },
    {
     "data": {
      "image/png": "[encoded data removed]",
      "text/plain": [
       "<Figure size 720x360 with 1 Axes>"
      ]
     },
     "metadata": {
      "needs_background": "light"
     },
     "output_type": "display_data"
    }
   ],
   "source": [
    "fig = plt.figure(figsize = (10, 5))\n",
    "plt.hist(df1[\"LoanAmount\"])\n"
   ]
  },
  {
   "cell_type": "code",
   "execution_count": 18,
   "id": "15efa8d7-588c-4f87-b14a-6cc58c35187f",
   "metadata": {},
   "outputs": [
    {
     "data": {
      "text/plain": [
       "(array([  3.,   6.,   3.,  44.,   4.,   0.,  13., 512.,   0.,  15.]),\n",
       " array([ 12. ,  58.8, 105.6, 152.4, 199.2, 246. , 292.8, 339.6, 386.4,\n",
       "        433.2, 480. ]),\n",
       " <BarContainer object of 10 artists>)"
      ]
     },
     "execution_count": 18,
     "metadata": {},
     "output_type": "execute_result"
    },
    {
     "data": {
      "image/png": "[encoded data removed]",
      "text/plain": [
       "<Figure size 720x360 with 1 Axes>"
      ]
     },
     "metadata": {
      "needs_background": "light"
     },
     "output_type": "display_data"
    }
   ],
   "source": [
    "fig = plt.figure(figsize = (10, 5))\n",
    "plt.hist(df1[\"Loan_Amount_Term\"])\n"
   ]
  },
  {
   "cell_type": "code",
   "execution_count": 19,
   "id": "f02cb385-9070-4230-9da8-8a7299927e10",
   "metadata": {},
   "outputs": [
    {
     "data": {
      "text/plain": [
       "(array([ 89.,   0.,   0.,   0.,   0.,   0.,   0.,   0.,   0., 475.]),\n",
       " array([0. , 0.1, 0.2, 0.3, 0.4, 0.5, 0.6, 0.7, 0.8, 0.9, 1. ]),\n",
       " <BarContainer object of 10 artists>)"
      ]
     },
     "execution_count": 19,
     "metadata": {},
     "output_type": "execute_result"
    },
    {
     "data": {
      "image/png": "[encoded data removed]",
      "text/plain": [
       "<Figure size 720x360 with 1 Axes>"
      ]
     },
     "metadata": {
      "needs_background": "light"
     },
     "output_type": "display_data"
    }
   ],
   "source": [
    "fig = plt.figure(figsize = (10, 5))\n",
    "plt.hist(df1[\"Credit_History\"])"
   ]
  },
  {
   "cell_type": "code",
   "execution_count": 20,
   "id": "41664c24-42fb-4b5d-bb06-4876f3437582",
   "metadata": {},
   "outputs": [],
   "source": [
    "#as we can see that credit history has only 2 values as 0 and 1 so we can make it as categorical varible\n",
    "df1[\"Credit_History\"] =df1[\"Credit_History\"].astype(object)"
   ]
  },
  {
   "cell_type": "code",
   "execution_count": 21,
   "id": "212e6a20-bc1d-4163-b998-da226e36c23c",
   "metadata": {},
   "outputs": [
    {
     "data": {
      "text/plain": [
       "dtype('O')"
      ]
     },
     "execution_count": 21,
     "metadata": {},
     "output_type": "execute_result"
    }
   ],
   "source": [
    "df1[\"Credit_History\"].dtype"
   ]
  },
  {
   "cell_type": "code",
   "execution_count": 22,
   "id": "2d0b898c-6f9b-4082-a1a5-d39b8fa879ad",
   "metadata": {},
   "outputs": [
    {
     "name": "stderr",
     "output_type": "stream",
     "text": [
      "C:\\Users\\TEJASI\\anaconda3\\lib\\site-packages\\seaborn\\_decorators.py:36: FutureWarning: Pass the following variable as a keyword arg: x. From version 0.12, the only valid positional argument will be `data`, and passing other arguments without an explicit keyword will result in an error or misinterpretation.\n",
      "  warnings.warn(\n"
     ]
    },
    {
     "data": {
      "text/plain": [
       "<AxesSubplot:xlabel='Gender', ylabel='count'>"
      ]
     },
     "execution_count": 22,
     "metadata": {},
     "output_type": "execute_result"
    },
    {
     "data": {
      "image/png": "[encoded data removed]",
      "text/plain": [
       "<Figure size 432x288 with 1 Axes>"
      ]
     },
     "metadata": {
      "needs_background": "light"
     },
     "output_type": "display_data"
    }
   ],
   "source": [
    "# for categorical varible\n",
    "sns.countplot(df1[\"Gender\"])\n"
   ]
  },
  {
   "cell_type": "code",
   "execution_count": 23,
   "id": "8f8efce0-39a8-4cab-8ff5-b0423953c3d1",
   "metadata": {},
   "outputs": [
    {
     "name": "stderr",
     "output_type": "stream",
     "text": [
      "C:\\Users\\TEJASI\\anaconda3\\lib\\site-packages\\seaborn\\_decorators.py:36: FutureWarning: Pass the following variable as a keyword arg: x. From version 0.12, the only valid positional argument will be `data`, and passing other arguments without an explicit keyword will result in an error or misinterpretation.\n",
      "  warnings.warn(\n"
     ]
    },
    {
     "data": {
      "text/plain": [
       "<AxesSubplot:xlabel='Married', ylabel='count'>"
      ]
     },
     "execution_count": 23,
     "metadata": {},
     "output_type": "execute_result"
    },
    {
     "data": {
      "image/png": "[encoded data removed]",
      "text/plain": [
       "<Figure size 432x288 with 1 Axes>"
      ]
     },
     "metadata": {
      "needs_background": "light"
     },
     "output_type": "display_data"
    }
   ],
   "source": [
    "sns.countplot(df1[\"Married\"])"
   ]
  },
  {
   "cell_type": "code",
   "execution_count": 24,
   "id": "1c75be84-6893-4408-8db5-52852f39ed7e",
   "metadata": {},
   "outputs": [
    {
     "name": "stderr",
     "output_type": "stream",
     "text": [
      "C:\\Users\\TEJASI\\anaconda3\\lib\\site-packages\\seaborn\\_decorators.py:36: FutureWarning: Pass the following variable as a keyword arg: x. From version 0.12, the only valid positional argument will be `data`, and passing other arguments without an explicit keyword will result in an error or misinterpretation.\n",
      "  warnings.warn(\n"
     ]
    },
    {
     "data": {
      "text/plain": [
       "<AxesSubplot:xlabel='Dependents', ylabel='count'>"
      ]
     },
     "execution_count": 24,
     "metadata": {},
     "output_type": "execute_result"
    },
    {
     "data": {
      "image/png": "[encoded data removed]",
      "text/plain": [
       "<Figure size 432x288 with 1 Axes>"
      ]
     },
     "metadata": {
      "needs_background": "light"
     },
     "output_type": "display_data"
    }
   ],
   "source": [
    "\n",
    "sns.countplot(df1[\"Dependents\"])"
   ]
  },
  {
   "cell_type": "code",
   "execution_count": 25,
   "id": "34cf3aff-393b-4889-9124-04531267ddd5",
   "metadata": {},
   "outputs": [
    {
     "name": "stderr",
     "output_type": "stream",
     "text": [
      "C:\\Users\\TEJASI\\anaconda3\\lib\\site-packages\\seaborn\\_decorators.py:36: FutureWarning: Pass the following variable as a keyword arg: x. From version 0.12, the only valid positional argument will be `data`, and passing other arguments without an explicit keyword will result in an error or misinterpretation.\n",
      "  warnings.warn(\n"
     ]
    },
    {
     "data": {
      "text/plain": [
       "<AxesSubplot:xlabel='Education', ylabel='count'>"
      ]
     },
     "execution_count": 25,
     "metadata": {},
     "output_type": "execute_result"
    },
    {
     "data": {
      "image/png": "[encoded data removed]",
      "text/plain": [
       "<Figure size 432x288 with 1 Axes>"
      ]
     },
     "metadata": {
      "needs_background": "light"
     },
     "output_type": "display_data"
    }
   ],
   "source": [
    "sns.countplot(df1[\"Education\"])"
   ]
  },
  {
   "cell_type": "code",
   "execution_count": 26,
   "id": "438ce32b-bd6e-4261-b360-072052a8415b",
   "metadata": {},
   "outputs": [
    {
     "name": "stderr",
     "output_type": "stream",
     "text": [
      "C:\\Users\\TEJASI\\anaconda3\\lib\\site-packages\\seaborn\\_decorators.py:36: FutureWarning: Pass the following variable as a keyword arg: x. From version 0.12, the only valid positional argument will be `data`, and passing other arguments without an explicit keyword will result in an error or misinterpretation.\n",
      "  warnings.warn(\n"
     ]
    },
    {
     "data": {
      "text/plain": [
       "<AxesSubplot:xlabel='Self_Employed', ylabel='count'>"
      ]
     },
     "execution_count": 26,
     "metadata": {},
     "output_type": "execute_result"
    },
    {
     "data": {
      "image/png": "[encoded data removed]",
      "text/plain": [
       "<Figure size 432x288 with 1 Axes>"
      ]
     },
     "metadata": {
      "needs_background": "light"
     },
     "output_type": "display_data"
    }
   ],
   "source": [
    "sns.countplot(df1[\"Self_Employed\"])"
   ]
  },
  {
   "cell_type": "code",
   "execution_count": 27,
   "id": "3bee7695-60cf-4d14-acea-3df5bccc39f9",
   "metadata": {},
   "outputs": [
    {
     "name": "stderr",
     "output_type": "stream",
     "text": [
      "C:\\Users\\TEJASI\\anaconda3\\lib\\site-packages\\seaborn\\_decorators.py:36: FutureWarning: Pass the following variable as a keyword arg: x. From version 0.12, the only valid positional argument will be `data`, and passing other arguments without an explicit keyword will result in an error or misinterpretation.\n",
      "  warnings.warn(\n"
     ]
    },
    {
     "data": {
      "text/plain": [
       "<AxesSubplot:xlabel='Self_Employed', ylabel='count'>"
      ]
     },
     "execution_count": 27,
     "metadata": {},
     "output_type": "execute_result"
    },
    {
     "data": {
      "image/png": "[encoded data removed]",
      "text/plain": [
       "<Figure size 432x288 with 1 Axes>"
      ]
     },
     "metadata": {
      "needs_background": "light"
     },
     "output_type": "display_data"
    }
   ],
   "source": [
    "sns.countplot(df1[\"Self_Employed\"])"
   ]
  },
  {
   "cell_type": "code",
   "execution_count": 28,
   "id": "7d619b97-f19f-41c6-afcb-d0e71f477c4b",
   "metadata": {},
   "outputs": [
    {
     "name": "stderr",
     "output_type": "stream",
     "text": [
      "C:\\Users\\TEJASI\\anaconda3\\lib\\site-packages\\seaborn\\_decorators.py:36: FutureWarning: Pass the following variable as a keyword arg: x. From version 0.12, the only valid positional argument will be `data`, and passing other arguments without an explicit keyword will result in an error or misinterpretation.\n",
      "  warnings.warn(\n"
     ]
    },
    {
     "data": {
      "text/plain": [
       "<AxesSubplot:xlabel='Property_Area', ylabel='count'>"
      ]
     },
     "execution_count": 28,
     "metadata": {},
     "output_type": "execute_result"
    },
    {
     "data": {
      "image/png": "[encoded data removed]",
      "text/plain": [
       "<Figure size 432x288 with 1 Axes>"
      ]
     },
     "metadata": {
      "needs_background": "light"
     },
     "output_type": "display_data"
    }
   ],
   "source": [
    "sns.countplot(df1[\"Property_Area\"])"
   ]
  },
  {
   "cell_type": "code",
   "execution_count": 29,
   "id": "df4b8ce5-6017-45bf-a692-c4cd9c23adb8",
   "metadata": {},
   "outputs": [
    {
     "name": "stderr",
     "output_type": "stream",
     "text": [
      "C:\\Users\\TEJASI\\anaconda3\\lib\\site-packages\\seaborn\\_decorators.py:36: FutureWarning: Pass the following variable as a keyword arg: x. From version 0.12, the only valid positional argument will be `data`, and passing other arguments without an explicit keyword will result in an error or misinterpretation.\n",
      "  warnings.warn(\n"
     ]
    },
    {
     "data": {
      "text/plain": [
       "<AxesSubplot:xlabel='Loan_Status', ylabel='count'>"
      ]
     },
     "execution_count": 29,
     "metadata": {},
     "output_type": "execute_result"
    },
    {
     "data": {
      "image/png": "[encoded data removed]",
      "text/plain": [
       "<Figure size 432x288 with 1 Axes>"
      ]
     },
     "metadata": {
      "needs_background": "light"
     },
     "output_type": "display_data"
    }
   ],
   "source": [
    "sns.countplot(df1[\"Loan_Status\"])"
   ]
  },
  {
   "cell_type": "code",
   "execution_count": 30,
   "id": "62aee3f9-4070-401f-bfb7-a8e0fc90ba3e",
   "metadata": {},
   "outputs": [],
   "source": [
    "# check for the outliers"
   ]
  },
  {
   "cell_type": "code",
   "execution_count": 31,
   "id": "85302d76-89cc-4cb4-98d1-5802e0952dfd",
   "metadata": {},
   "outputs": [
    {
     "name": "stderr",
     "output_type": "stream",
     "text": [
      "C:\\Users\\TEJASI\\anaconda3\\lib\\site-packages\\seaborn\\_decorators.py:36: FutureWarning: Pass the following variable as a keyword arg: x. From version 0.12, the only valid positional argument will be `data`, and passing other arguments without an explicit keyword will result in an error or misinterpretation.\n",
      "  warnings.warn(\n"
     ]
    },
    {
     "data": {
      "text/plain": [
       "<AxesSubplot:xlabel='ApplicantIncome'>"
      ]
     },
     "execution_count": 31,
     "metadata": {},
     "output_type": "execute_result"
    },
    {
     "data": {
      "image/png": "[encoded data removed]",
      "text/plain": [
       "<Figure size 720x360 with 1 Axes>"
      ]
     },
     "metadata": {
      "needs_background": "light"
     },
     "output_type": "display_data"
    }
   ],
   "source": [
    "fig = plt.figure(figsize = (10, 5))\n",
    "sns.boxplot(df1[\"ApplicantIncome\"])"
   ]
  },
  {
   "cell_type": "code",
   "execution_count": 32,
   "id": "b0837674-765e-4b23-9bc3-d76650b31d52",
   "metadata": {},
   "outputs": [
    {
     "name": "stderr",
     "output_type": "stream",
     "text": [
      "C:\\Users\\TEJASI\\anaconda3\\lib\\site-packages\\seaborn\\_decorators.py:36: FutureWarning: Pass the following variable as a keyword arg: x. From version 0.12, the only valid positional argument will be `data`, and passing other arguments without an explicit keyword will result in an error or misinterpretation.\n",
      "  warnings.warn(\n"
     ]
    },
    {
     "data": {
      "text/plain": [
       "<AxesSubplot:xlabel='CoapplicantIncome'>"
      ]
     },
     "execution_count": 32,
     "metadata": {},
     "output_type": "execute_result"
    },
    {
     "data": {
      "image/png": "[encoded data removed]",
      "text/plain": [
       "<Figure size 720x360 with 1 Axes>"
      ]
     },
     "metadata": {
      "needs_background": "light"
     },
     "output_type": "display_data"
    }
   ],
   "source": [
    "fig = plt.figure(figsize = (10, 5))\n",
    "sns.boxplot(df1[\"CoapplicantIncome\"])"
   ]
  },
  {
   "cell_type": "code",
   "execution_count": 33,
   "id": "61debe1a-6aef-4cca-a8a3-9b736db48337",
   "metadata": {},
   "outputs": [
    {
     "name": "stderr",
     "output_type": "stream",
     "text": [
      "C:\\Users\\TEJASI\\anaconda3\\lib\\site-packages\\seaborn\\_decorators.py:36: FutureWarning: Pass the following variable as a keyword arg: x. From version 0.12, the only valid positional argument will be `data`, and passing other arguments without an explicit keyword will result in an error or misinterpretation.\n",
      "  warnings.warn(\n"
     ]
    },
    {
     "data": {
      "text/plain": [
       "<AxesSubplot:xlabel='LoanAmount'>"
      ]
     },
     "execution_count": 33,
     "metadata": {},
     "output_type": "execute_result"
    },
    {
     "data": {
      "image/png": "[encoded data removed]",
      "text/plain": [
       "<Figure size 720x360 with 1 Axes>"
      ]
     },
     "metadata": {
      "needs_background": "light"
     },
     "output_type": "display_data"
    }
   ],
   "source": [
    "fig = plt.figure(figsize = (10, 5))\n",
    "sns.boxplot(df1[\"LoanAmount\"])"
   ]
  },
  {
   "cell_type": "code",
   "execution_count": 34,
   "id": "0eb8be12-6c65-4609-8205-9dda2c1c07c0",
   "metadata": {},
   "outputs": [
    {
     "name": "stderr",
     "output_type": "stream",
     "text": [
      "C:\\Users\\TEJASI\\anaconda3\\lib\\site-packages\\seaborn\\_decorators.py:36: FutureWarning: Pass the following variable as a keyword arg: x. From version 0.12, the only valid positional argument will be `data`, and passing other arguments without an explicit keyword will result in an error or misinterpretation.\n",
      "  warnings.warn(\n"
     ]
    },
    {
     "data": {
      "text/plain": [
       "<AxesSubplot:xlabel='Loan_Amount_Term'>"
      ]
     },
     "execution_count": 34,
     "metadata": {},
     "output_type": "execute_result"
    },
    {
     "data": {
      "image/png": "[encoded data removed]",
      "text/plain": [
       "<Figure size 720x360 with 1 Axes>"
      ]
     },
     "metadata": {
      "needs_background": "light"
     },
     "output_type": "display_data"
    }
   ],
   "source": [
    "fig = plt.figure(figsize = (10, 5))\n",
    "sns.boxplot(df1[\"Loan_Amount_Term\"])"
   ]
  },
  {
   "cell_type": "code",
   "execution_count": 35,
   "id": "60e850b0-d216-4757-8d29-fe7b6bd7b50b",
   "metadata": {},
   "outputs": [
    {
     "data": {
      "text/plain": [
       "<AxesSubplot:xlabel='Loan_Status', ylabel='ApplicantIncome'>"
      ]
     },
     "execution_count": 35,
     "metadata": {},
     "output_type": "execute_result"
    },
    {
     "data": {
      "image/png": "[encoded data removed]",
      "text/plain": [
       "<Figure size 432x288 with 1 Axes>"
      ]
     },
     "metadata": {
      "needs_background": "light"
     },
     "output_type": "display_data"
    }
   ],
   "source": [
    "# treatment of the outliers using IQR method\n",
    "\n",
    "sns.boxplot(y='ApplicantIncome', x='Loan_Status',data=df)"
   ]
  },
  {
   "cell_type": "code",
   "execution_count": 36,
   "id": "3366e2d7-4af9-47ff-bbd1-8def2ceb5220",
   "metadata": {},
   "outputs": [
    {
     "data": {
      "text/plain": [
       "<AxesSubplot:xlabel='Loan_Status', ylabel='LoanAmount'>"
      ]
     },
     "execution_count": 36,
     "metadata": {},
     "output_type": "execute_result"
    },
    {
     "data": {
      "image/png": "[encoded data removed]",
      "text/plain": [
       "<Figure size 432x288 with 1 Axes>"
      ]
     },
     "metadata": {
      "needs_background": "light"
     },
     "output_type": "display_data"
    }
   ],
   "source": [
    "sns.boxplot(y='LoanAmount', x='Loan_Status',data=df)"
   ]
  },
  {
   "cell_type": "code",
   "execution_count": 37,
   "id": "8c184c44-bfde-4f7f-8f50-359653fe81f4",
   "metadata": {},
   "outputs": [
    {
     "data": {
      "text/plain": [
       "<AxesSubplot:xlabel='Loan_Status', ylabel='CoapplicantIncome'>"
      ]
     },
     "execution_count": 37,
     "metadata": {},
     "output_type": "execute_result"
    },
    {
     "data": {
      "image/png": "[encoded data removed]",
      "text/plain": [
       "<Figure size 432x288 with 1 Axes>"
      ]
     },
     "metadata": {
      "needs_background": "light"
     },
     "output_type": "display_data"
    }
   ],
   "source": [
    "sns.boxplot(y='CoapplicantIncome', x='Loan_Status',data=df)"
   ]
  },
  {
   "cell_type": "code",
   "execution_count": 38,
   "id": "b75c005f-d8bf-4299-9556-b0ac0cb36646",
   "metadata": {},
   "outputs": [
    {
     "data": {
      "text/plain": [
       "(-1498.75, 10171.25)"
      ]
     },
     "execution_count": 38,
     "metadata": {},
     "output_type": "execute_result"
    }
   ],
   "source": [
    "# we can see from the above plot  which compares the loan status with aplicant income and coaplicant income that their is the possibility of the outlier .\n",
    "# So lets treat it using IQR method and remove the outlier of the applicant income and coaplicant income if any\n",
    "\n",
    "Q1=df1[\"ApplicantIncome\"].quantile(0.25)\n",
    "Q3=df1[\"ApplicantIncome\"].quantile(0.75)\n",
    "IQR=Q3-Q1\n",
    "IQR\n",
    "lower_l = Q1 - 1.5*IQR\n",
    "upper_l = Q3 + 1.5*IQR\n",
    "lower_l, upper_l\n",
    "\n"
   ]
  },
  {
   "cell_type": "code",
   "execution_count": 39,
   "id": "e84dc0e8-15fb-4a2c-8d56-65be99023ed2",
   "metadata": {},
   "outputs": [],
   "source": [
    "df2 = df1[(df1.ApplicantIncome>lower_l) & (df1.ApplicantIncome<upper_l)]\n",
    "df2.shape\n",
    "df1 = df2.copy(deep = True)"
   ]
  },
  {
   "cell_type": "code",
   "execution_count": 40,
   "id": "e5cda6fb-35fe-4ca5-aaa8-61e6e7ff848e",
   "metadata": {},
   "outputs": [
    {
     "name": "stderr",
     "output_type": "stream",
     "text": [
      "C:\\Users\\TEJASI\\anaconda3\\lib\\site-packages\\seaborn\\_decorators.py:36: FutureWarning: Pass the following variable as a keyword arg: x. From version 0.12, the only valid positional argument will be `data`, and passing other arguments without an explicit keyword will result in an error or misinterpretation.\n",
      "  warnings.warn(\n"
     ]
    },
    {
     "data": {
      "text/plain": [
       "<AxesSubplot:xlabel='ApplicantIncome'>"
      ]
     },
     "execution_count": 40,
     "metadata": {},
     "output_type": "execute_result"
    },
    {
     "data": {
      "image/png": "[encoded data removed]",
      "text/plain": [
       "<Figure size 720x360 with 1 Axes>"
      ]
     },
     "metadata": {
      "needs_background": "light"
     },
     "output_type": "display_data"
    }
   ],
   "source": [
    "fig = plt.figure(figsize = (10, 5))\n",
    "sns.boxplot(df1[\"ApplicantIncome\"])\n",
    "# Plot after treatment of the outliers"
   ]
  },
  {
   "cell_type": "code",
   "execution_count": 41,
   "id": "d59c7a29-a45d-4a04-9319-2e3839c700a2",
   "metadata": {},
   "outputs": [
    {
     "data": {
      "text/plain": [
       "<AxesSubplot:xlabel='Loan_Status', ylabel='ApplicantIncome'>"
      ]
     },
     "execution_count": 41,
     "metadata": {},
     "output_type": "execute_result"
    },
    {
     "data": {
      "image/png": "[encoded data removed]",
      "text/plain": [
       "<Figure size 432x288 with 1 Axes>"
      ]
     },
     "metadata": {
      "needs_background": "light"
     },
     "output_type": "display_data"
    }
   ],
   "source": [
    "sns.boxplot(y='ApplicantIncome', x='Loan_Status',data=df1)"
   ]
  },
  {
   "cell_type": "code",
   "execution_count": 42,
   "id": "1a39735f-9cca-453d-98e1-bbe57101b32a",
   "metadata": {},
   "outputs": [
    {
     "data": {
      "text/plain": [
       "(564,)"
      ]
     },
     "execution_count": 42,
     "metadata": {},
     "output_type": "execute_result"
    }
   ],
   "source": [
    "df1[\"CoapplicantIncome\"].shape"
   ]
  },
  {
   "cell_type": "code",
   "execution_count": 43,
   "id": "3760e416-079a-4743-8fd7-b711d215aa4d",
   "metadata": {},
   "outputs": [],
   "source": [
    "Q1=df1[\"CoapplicantIncome\"].quantile(0.25)\n",
    "Q3=df1[\"CoapplicantIncome\"].quantile(0.75)\n",
    "IQR=Q3-Q1\n",
    "#df1[\"CoapplicantIncome\"]=df1[\"CoapplicantIncome\"][~((df1[\"CoapplicantIncome\"]<(Q1-1.5*IQR)) | (df1[\"CoapplicantIncome\"]>(Q3+1.5*IQR)))]"
   ]
  },
  {
   "cell_type": "code",
   "execution_count": 44,
   "id": "3cc74b08-93d8-42e0-ab00-47a26faec583",
   "metadata": {},
   "outputs": [],
   "source": [
    "df3 = df1[(df1.CoapplicantIncome>lower_l) & (df1.CoapplicantIncome<upper_l)]\n",
    "df3.shape\n",
    "df1 = df3.copy(deep = True)"
   ]
  },
  {
   "cell_type": "code",
   "execution_count": 45,
   "id": "312b9624-45b5-444f-b66c-3b4bff611564",
   "metadata": {},
   "outputs": [
    {
     "name": "stderr",
     "output_type": "stream",
     "text": [
      "C:\\Users\\TEJASI\\anaconda3\\lib\\site-packages\\seaborn\\_decorators.py:36: FutureWarning: Pass the following variable as a keyword arg: x. From version 0.12, the only valid positional argument will be `data`, and passing other arguments without an explicit keyword will result in an error or misinterpretation.\n",
      "  warnings.warn(\n"
     ]
    },
    {
     "data": {
      "text/plain": [
       "<AxesSubplot:xlabel='CoapplicantIncome'>"
      ]
     },
     "execution_count": 45,
     "metadata": {},
     "output_type": "execute_result"
    },
    {
     "data": {
      "image/png": "[encoded data removed]",
      "text/plain": [
       "<Figure size 720x360 with 1 Axes>"
      ]
     },
     "metadata": {
      "needs_background": "light"
     },
     "output_type": "display_data"
    }
   ],
   "source": [
    "fig = plt.figure(figsize = (10, 5))\n",
    "sns.boxplot(df1[\"CoapplicantIncome\"])"
   ]
  },
  {
   "cell_type": "code",
   "execution_count": 46,
   "id": "813d797f-39c1-470e-8494-a4cd8ec67572",
   "metadata": {},
   "outputs": [
    {
     "data": {
      "text/plain": [
       "<AxesSubplot:xlabel='Loan_Status', ylabel='CoapplicantIncome'>"
      ]
     },
     "execution_count": 46,
     "metadata": {},
     "output_type": "execute_result"
    },
    {
     "data": {
      "image/png": "[encoded data removed]",
      "text/plain": [
       "<Figure size 432x288 with 1 Axes>"
      ]
     },
     "metadata": {
      "needs_background": "light"
     },
     "output_type": "display_data"
    }
   ],
   "source": [
    "sns.boxplot(y='CoapplicantIncome', x='Loan_Status',data=df)"
   ]
  },
  {
   "cell_type": "code",
   "execution_count": 47,
   "id": "17873bac-f09e-4abf-a1e2-ba9faad6452b",
   "metadata": {},
   "outputs": [
    {
     "data": {
      "text/plain": [
       "(559, 12)"
      ]
     },
     "execution_count": 47,
     "metadata": {},
     "output_type": "execute_result"
    }
   ],
   "source": [
    "df1.shape"
   ]
  },
  {
   "cell_type": "code",
   "execution_count": 48,
   "id": "265fe4d9-5904-4b70-bba0-d671c5bc9f78",
   "metadata": {},
   "outputs": [
    {
     "data": {
      "text/plain": [
       "Index(['Gender', 'Married', 'Dependents', 'Education', 'Self_Employed',\n",
       "       'ApplicantIncome', 'CoapplicantIncome', 'LoanAmount',\n",
       "       'Loan_Amount_Term', 'Credit_History', 'Property_Area', 'Loan_Status'],\n",
       "      dtype='object')"
      ]
     },
     "execution_count": 48,
     "metadata": {},
     "output_type": "execute_result"
    }
   ],
   "source": [
    "df1.columns"
   ]
  },
  {
   "cell_type": "code",
   "execution_count": 49,
   "id": "dedb7ccd-c9a5-4aa8-be92-c96fb6407d0f",
   "metadata": {},
   "outputs": [],
   "source": [
    "# lets do bivariate analysis"
   ]
  },
  {
   "cell_type": "code",
   "execution_count": 50,
   "id": "c0b2eb67-5f1a-4102-a5d5-5bb785ecf26f",
   "metadata": {},
   "outputs": [
    {
     "data": {
      "text/plain": [
       "<AxesSubplot:xlabel='LoanAmount', ylabel='ApplicantIncome'>"
      ]
     },
     "execution_count": 50,
     "metadata": {},
     "output_type": "execute_result"
    },
    {
     "data": {
      "image/png": "[encoded data removed]",
      "text/plain": [
       "<Figure size 720x360 with 1 Axes>"
      ]
     },
     "metadata": {
      "needs_background": "light"
     },
     "output_type": "display_data"
    }
   ],
   "source": [
    "fig = plt.figure(figsize = (10, 5))\n",
    "sns.scatterplot(x=\"LoanAmount\", y=\"ApplicantIncome\", data = df1 )"
   ]
  },
  {
   "cell_type": "code",
   "execution_count": 51,
   "id": "52a9b238-aadf-4df9-a7c8-b46ba76b9af9",
   "metadata": {},
   "outputs": [
    {
     "data": {
      "text/plain": [
       "<AxesSubplot:xlabel='LoanAmount', ylabel='CoapplicantIncome'>"
      ]
     },
     "execution_count": 51,
     "metadata": {},
     "output_type": "execute_result"
    },
    {
     "data": {
      "image/png": "[encoded data removed]",
      "text/plain": [
       "<Figure size 432x288 with 1 Axes>"
      ]
     },
     "metadata": {
      "needs_background": "light"
     },
     "output_type": "display_data"
    }
   ],
   "source": [
    "sns.scatterplot(x=\"LoanAmount\", y=\"CoapplicantIncome\", data = df1 )"
   ]
  },
  {
   "cell_type": "code",
   "execution_count": 52,
   "id": "d1ac4ac8-e68b-4864-8190-53d22d28517e",
   "metadata": {},
   "outputs": [
    {
     "data": {
      "text/plain": [
       "<AxesSubplot:xlabel='Loan_Status', ylabel='Credit_History'>"
      ]
     },
     "execution_count": 52,
     "metadata": {},
     "output_type": "execute_result"
    },
    {
     "data": {
      "image/png": "[encoded data removed]",
      "text/plain": [
       "<Figure size 432x288 with 1 Axes>"
      ]
     },
     "metadata": {
      "needs_background": "light"
     },
     "output_type": "display_data"
    }
   ],
   "source": [
    "sns.barplot(x=\"Loan_Status\", y=\"Credit_History\", data = df1 )"
   ]
  },
  {
   "cell_type": "code",
   "execution_count": 53,
   "id": "0e51dcf4-27fc-42bb-896f-3d8f5004c1e2",
   "metadata": {},
   "outputs": [
    {
     "data": {
      "text/plain": [
       "<AxesSubplot:xlabel='Dependents', ylabel='LoanAmount'>"
      ]
     },
     "execution_count": 53,
     "metadata": {},
     "output_type": "execute_result"
    },
    {
     "data": {
      "image/png": "[encoded data removed]",
      "text/plain": [
       "<Figure size 432x288 with 1 Axes>"
      ]
     },
     "metadata": {
      "needs_background": "light"
     },
     "output_type": "display_data"
    }
   ],
   "source": [
    "sns.barplot(x=\"Dependents\", y=\"LoanAmount\", data = df1 )"
   ]
  },
  {
   "cell_type": "code",
   "execution_count": 54,
   "id": "9b003413-cccf-4549-8043-9f5ae242171d",
   "metadata": {},
   "outputs": [
    {
     "data": {
      "text/plain": [
       "<AxesSubplot:xlabel='Married', ylabel='LoanAmount'>"
      ]
     },
     "execution_count": 54,
     "metadata": {},
     "output_type": "execute_result"
    },
    {
     "data": {
      "image/png": "[encoded data removed]",
      "text/plain": [
       "<Figure size 432x288 with 1 Axes>"
      ]
     },
     "metadata": {
      "needs_background": "light"
     },
     "output_type": "display_data"
    }
   ],
   "source": [
    "sns.barplot(x=\"Married\", y=\"LoanAmount\", data = df1 )"
   ]
  },
  {
   "cell_type": "code",
   "execution_count": 55,
   "id": "b6c72afb-489a-4e8a-adef-f26062f55334",
   "metadata": {},
   "outputs": [
    {
     "data": {
      "text/plain": [
       "<AxesSubplot:xlabel='Education', ylabel='LoanAmount'>"
      ]
     },
     "execution_count": 55,
     "metadata": {},
     "output_type": "execute_result"
    },
    {
     "data": {
      "image/png": "[encoded data removed]",
      "text/plain": [
       "<Figure size 432x288 with 1 Axes>"
      ]
     },
     "metadata": {
      "needs_background": "light"
     },
     "output_type": "display_data"
    }
   ],
   "source": [
    "sns.barplot(x=\"Education\", y=\"LoanAmount\", data = df1 )"
   ]
  },
  {
   "cell_type": "code",
   "execution_count": 56,
   "id": "037cce85-4973-4376-a3d4-8aadc1342b27",
   "metadata": {},
   "outputs": [
    {
     "data": {
      "text/plain": [
       "<AxesSubplot:xlabel='Self_Employed', ylabel='LoanAmount'>"
      ]
     },
     "execution_count": 56,
     "metadata": {},
     "output_type": "execute_result"
    },
    {
     "data": {
      "image/png": "[encoded data removed]",
      "text/plain": [
       "<Figure size 432x288 with 1 Axes>"
      ]
     },
     "metadata": {
      "needs_background": "light"
     },
     "output_type": "display_data"
    }
   ],
   "source": [
    "sns.barplot(x=\"Self_Employed\", y=\"LoanAmount\", data = df1 )"
   ]
  },
  {
   "cell_type": "code",
   "execution_count": 57,
   "id": "400e031f-efdc-4b89-9fca-24c1fdf751f6",
   "metadata": {},
   "outputs": [
    {
     "data": {
      "text/plain": [
       "<AxesSubplot:xlabel='Credit_History', ylabel='LoanAmount'>"
      ]
     },
     "execution_count": 57,
     "metadata": {},
     "output_type": "execute_result"
    },
    {
     "data": {
      "image/png": "[encoded data removed]",
      "text/plain": [
       "<Figure size 432x288 with 1 Axes>"
      ]
     },
     "metadata": {
      "needs_background": "light"
     },
     "output_type": "display_data"
    }
   ],
   "source": [
    "sns.barplot(x=\"Credit_History\", y=\"LoanAmount\", data = df1 )"
   ]
  },
  {
   "cell_type": "code",
   "execution_count": 58,
   "id": "e32df977-2468-4192-9565-ff863b1706fe",
   "metadata": {},
   "outputs": [
    {
     "data": {
      "text/plain": [
       "<AxesSubplot:xlabel='Loan_Amount_Term', ylabel='LoanAmount'>"
      ]
     },
     "execution_count": 58,
     "metadata": {},
     "output_type": "execute_result"
    },
    {
     "data": {
      "image/png": "[encoded data removed]",
      "text/plain": [
       "<Figure size 432x288 with 1 Axes>"
      ]
     },
     "metadata": {
      "needs_background": "light"
     },
     "output_type": "display_data"
    }
   ],
   "source": [
    "sns.lineplot(x=\"Loan_Amount_Term\", y=\"LoanAmount\", data = df1 )"
   ]
  },
  {
   "cell_type": "code",
   "execution_count": 59,
   "id": "125a3197-096a-4e78-98b9-660374027ae9",
   "metadata": {},
   "outputs": [
    {
     "data": {
      "text/plain": [
       "<AxesSubplot:xlabel='Property_Area', ylabel='LoanAmount'>"
      ]
     },
     "execution_count": 59,
     "metadata": {},
     "output_type": "execute_result"
    },
    {
     "data": {
      "image/png": "[encoded data removed]",
      "text/plain": [
       "<Figure size 432x288 with 1 Axes>"
      ]
     },
     "metadata": {
      "needs_background": "light"
     },
     "output_type": "display_data"
    }
   ],
   "source": [
    "sns.barplot(x=\"Property_Area\", y=\"LoanAmount\", data = df1 )"
   ]
  },
  {
   "cell_type": "code",
   "execution_count": 60,
   "id": "6df78ce4-93e9-4c2c-895a-87176d49e9a3",
   "metadata": {},
   "outputs": [
    {
     "data": {
      "text/plain": [
       "<AxesSubplot:xlabel='Credit_History', ylabel='LoanAmount'>"
      ]
     },
     "execution_count": 60,
     "metadata": {},
     "output_type": "execute_result"
    },
    {
     "data": {
      "image/png": "[encoded data removed]",
      "text/plain": [
       "<Figure size 432x288 with 1 Axes>"
      ]
     },
     "metadata": {
      "needs_background": "light"
     },
     "output_type": "display_data"
    }
   ],
   "source": [
    "sns.barplot(x=\"Credit_History\", y=\"LoanAmount\", data = df1 )"
   ]
  },
  {
   "cell_type": "code",
   "execution_count": 61,
   "id": "c7c0049c-16c6-463c-b412-419a76e6ec95",
   "metadata": {},
   "outputs": [
    {
     "data": {
      "text/plain": [
       "<AxesSubplot:xlabel='Gender', ylabel='LoanAmount'>"
      ]
     },
     "execution_count": 61,
     "metadata": {},
     "output_type": "execute_result"
    },
    {
     "data": {
      "image/png": "[encoded data removed]",
      "text/plain": [
       "<Figure size 432x288 with 1 Axes>"
      ]
     },
     "metadata": {
      "needs_background": "light"
     },
     "output_type": "display_data"
    }
   ],
   "source": [
    "sns.barplot(x=\"Gender\", y=\"LoanAmount\", data = df1 )"
   ]
  },
  {
   "cell_type": "code",
   "execution_count": 62,
   "id": "0ff019df-8b84-4909-b5cd-2021c781261a",
   "metadata": {},
   "outputs": [
    {
     "data": {
      "text/plain": [
       "Gender                object\n",
       "Married               object\n",
       "Dependents            object\n",
       "Education             object\n",
       "Self_Employed         object\n",
       "ApplicantIncome        int64\n",
       "CoapplicantIncome    float64\n",
       "LoanAmount           float64\n",
       "Loan_Amount_Term     float64\n",
       "Credit_History        object\n",
       "Property_Area         object\n",
       "Loan_Status           object\n",
       "dtype: object"
      ]
     },
     "execution_count": 62,
     "metadata": {},
     "output_type": "execute_result"
    }
   ],
   "source": [
    "df1.dtypes"
   ]
  },
  {
   "cell_type": "code",
   "execution_count": 63,
   "id": "f77e94c9-b367-4802-9a7b-d1f1b82f4031",
   "metadata": {},
   "outputs": [],
   "source": [
    "#lets 1st divide the categorical and numerical varibale\n",
    "import numpy as np"
   ]
  },
  {
   "cell_type": "code",
   "execution_count": 64,
   "id": "7b293734-2319-4334-9740-f5aa0a5938c5",
   "metadata": {},
   "outputs": [],
   "source": [
    "df1_cat = df1.select_dtypes(exclude=[np.number])"
   ]
  },
  {
   "cell_type": "code",
   "execution_count": 65,
   "id": "c4301f35-58c5-49f8-a6ff-231c9a62731f",
   "metadata": {},
   "outputs": [
    {
     "data": {
      "text/plain": [
       "Gender            object\n",
       "Married           object\n",
       "Dependents        object\n",
       "Education         object\n",
       "Self_Employed     object\n",
       "Credit_History    object\n",
       "Property_Area     object\n",
       "Loan_Status       object\n",
       "dtype: object"
      ]
     },
     "execution_count": 65,
     "metadata": {},
     "output_type": "execute_result"
    }
   ],
   "source": [
    "df1_cat.dtypes"
   ]
  },
  {
   "cell_type": "code",
   "execution_count": 66,
   "id": "5a364eb1-6681-4b41-be0c-3acda6db1e95",
   "metadata": {},
   "outputs": [],
   "source": [
    "df1_num = df1.select_dtypes(include=[np.number])"
   ]
  },
  {
   "cell_type": "code",
   "execution_count": 67,
   "id": "20c97b15-024e-4b02-8858-ee305db5de47",
   "metadata": {},
   "outputs": [
    {
     "data": {
      "text/plain": [
       "ApplicantIncome        int64\n",
       "CoapplicantIncome    float64\n",
       "LoanAmount           float64\n",
       "Loan_Amount_Term     float64\n",
       "dtype: object"
      ]
     },
     "execution_count": 67,
     "metadata": {},
     "output_type": "execute_result"
    }
   ],
   "source": [
    "df1_num.dtypes"
   ]
  },
  {
   "cell_type": "code",
   "execution_count": 68,
   "id": "60695bed-ff01-4916-a1b1-981913f068cd",
   "metadata": {},
   "outputs": [
    {
     "data": {
      "text/plain": [
       "Education          0\n",
       "Property_Area      0\n",
       "Loan_Status        0\n",
       "Married            3\n",
       "Gender            10\n",
       "Dependents        14\n",
       "Self_Employed     29\n",
       "Credit_History    46\n",
       "dtype: int64"
      ]
     },
     "execution_count": 68,
     "metadata": {},
     "output_type": "execute_result"
    }
   ],
   "source": [
    "# lets handel the null values for the catgorical varibles\n",
    "df1_cat.isnull().sum().sort_values(ascending= True)"
   ]
  },
  {
   "cell_type": "code",
   "execution_count": 69,
   "id": "8c48e6e4-fbea-4179-b202-5e575819bfcc",
   "metadata": {},
   "outputs": [
    {
     "data": {
      "text/html": [
       "<div>\n",
       "<style scoped>\n",
       "    .dataframe tbody tr th:only-of-type {\n",
       "        vertical-align: middle;\n",
       "    }\n",
       "\n",
       "    .dataframe tbody tr th {\n",
       "        vertical-align: top;\n",
       "    }\n",
       "\n",
       "    .dataframe thead th {\n",
       "        text-align: right;\n",
       "    }\n",
       "</style>\n",
       "<table border=\"1\" class=\"dataframe\">\n",
       "  <thead>\n",
       "    <tr style=\"text-align: right;\">\n",
       "      <th></th>\n",
       "      <th>Gender</th>\n",
       "      <th>Married</th>\n",
       "      <th>Dependents</th>\n",
       "      <th>Education</th>\n",
       "      <th>Self_Employed</th>\n",
       "      <th>Credit_History</th>\n",
       "      <th>Property_Area</th>\n",
       "      <th>Loan_Status</th>\n",
       "    </tr>\n",
       "  </thead>\n",
       "  <tbody>\n",
       "    <tr>\n",
       "      <th>0</th>\n",
       "      <td>Male</td>\n",
       "      <td>Yes</td>\n",
       "      <td>0</td>\n",
       "      <td>Graduate</td>\n",
       "      <td>No</td>\n",
       "      <td>1.0</td>\n",
       "      <td>Semiurban</td>\n",
       "      <td>Y</td>\n",
       "    </tr>\n",
       "  </tbody>\n",
       "</table>\n",
       "</div>"
      ],
      "text/plain": [
       "  Gender Married Dependents Education Self_Employed Credit_History  \\\n",
       "0   Male     Yes          0  Graduate            No            1.0   \n",
       "\n",
       "  Property_Area Loan_Status  \n",
       "0     Semiurban           Y  "
      ]
     },
     "execution_count": 69,
     "metadata": {},
     "output_type": "execute_result"
    }
   ],
   "source": [
    "df1_cat.mode()\n"
   ]
  },
  {
   "cell_type": "code",
   "execution_count": 70,
   "id": "c1033291-8cff-410b-83ec-437b3cb073c0",
   "metadata": {},
   "outputs": [
    {
     "name": "stderr",
     "output_type": "stream",
     "text": [
      "C:\\Users\\TEJASI\\AppData\\Local\\Temp/ipykernel_25076/2796771356.py:1: SettingWithCopyWarning: \n",
      "A value is trying to be set on a copy of a slice from a DataFrame.\n",
      "Try using .loc[row_indexer,col_indexer] = value instead\n",
      "\n",
      "See the caveats in the documentation: https://pandas.pydata.org/pandas-docs/stable/user_guide/indexing.html#returning-a-view-versus-a-copy\n",
      "  df1_cat[\"Gender\"] = df1_cat[\"Gender\"].fillna(\"Male\")\n",
      "C:\\Users\\TEJASI\\AppData\\Local\\Temp/ipykernel_25076/2796771356.py:2: SettingWithCopyWarning: \n",
      "A value is trying to be set on a copy of a slice from a DataFrame.\n",
      "Try using .loc[row_indexer,col_indexer] = value instead\n",
      "\n",
      "See the caveats in the documentation: https://pandas.pydata.org/pandas-docs/stable/user_guide/indexing.html#returning-a-view-versus-a-copy\n",
      "  df1_cat[\"Married\"] = df1_cat[\"Married\"].fillna(\"Yes\")\n",
      "C:\\Users\\TEJASI\\AppData\\Local\\Temp/ipykernel_25076/2796771356.py:3: SettingWithCopyWarning: \n",
      "A value is trying to be set on a copy of a slice from a DataFrame.\n",
      "Try using .loc[row_indexer,col_indexer] = value instead\n",
      "\n",
      "See the caveats in the documentation: https://pandas.pydata.org/pandas-docs/stable/user_guide/indexing.html#returning-a-view-versus-a-copy\n",
      "  df1_cat[\"Dependents\"] = df1_cat[\"Dependents\"].fillna(\"0\")\n",
      "C:\\Users\\TEJASI\\AppData\\Local\\Temp/ipykernel_25076/2796771356.py:4: SettingWithCopyWarning: \n",
      "A value is trying to be set on a copy of a slice from a DataFrame.\n",
      "Try using .loc[row_indexer,col_indexer] = value instead\n",
      "\n",
      "See the caveats in the documentation: https://pandas.pydata.org/pandas-docs/stable/user_guide/indexing.html#returning-a-view-versus-a-copy\n",
      "  df1_cat[\"Self_Employed\"] = df1_cat[\"Self_Employed\"].fillna(\"Graduate\")\n",
      "C:\\Users\\TEJASI\\AppData\\Local\\Temp/ipykernel_25076/2796771356.py:5: SettingWithCopyWarning: \n",
      "A value is trying to be set on a copy of a slice from a DataFrame.\n",
      "Try using .loc[row_indexer,col_indexer] = value instead\n",
      "\n",
      "See the caveats in the documentation: https://pandas.pydata.org/pandas-docs/stable/user_guide/indexing.html#returning-a-view-versus-a-copy\n",
      "  df1_cat[\"Credit_History\"] = df1_cat[\"Credit_History\"].fillna(\"1.0\")\n"
     ]
    }
   ],
   "source": [
    "df1_cat[\"Gender\"] = df1_cat[\"Gender\"].fillna(\"Male\")\n",
    "df1_cat[\"Married\"] = df1_cat[\"Married\"].fillna(\"Yes\")\n",
    "df1_cat[\"Dependents\"] = df1_cat[\"Dependents\"].fillna(\"0\")\n",
    "df1_cat[\"Self_Employed\"] = df1_cat[\"Self_Employed\"].fillna(\"Graduate\")\n",
    "df1_cat[\"Credit_History\"] = df1_cat[\"Credit_History\"].fillna(\"1.0\")"
   ]
  },
  {
   "cell_type": "code",
   "execution_count": 71,
   "id": "2425ae0d-1f3d-48ee-9926-ec3783a292f2",
   "metadata": {},
   "outputs": [
    {
     "data": {
      "text/plain": [
       "Gender            0\n",
       "Married           0\n",
       "Dependents        0\n",
       "Education         0\n",
       "Self_Employed     0\n",
       "Credit_History    0\n",
       "Property_Area     0\n",
       "Loan_Status       0\n",
       "dtype: int64"
      ]
     },
     "execution_count": 71,
     "metadata": {},
     "output_type": "execute_result"
    }
   ],
   "source": [
    "df1_cat.isnull().sum()"
   ]
  },
  {
   "cell_type": "code",
   "execution_count": 72,
   "id": "e2555e90-5207-4896-9133-b38494b13393",
   "metadata": {},
   "outputs": [
    {
     "data": {
      "text/plain": [
       "ApplicantIncome       0\n",
       "CoapplicantIncome     0\n",
       "Loan_Amount_Term     14\n",
       "LoanAmount           20\n",
       "dtype: int64"
      ]
     },
     "execution_count": 72,
     "metadata": {},
     "output_type": "execute_result"
    }
   ],
   "source": [
    "df1_num.isnull().sum().sort_values(ascending= True)"
   ]
  },
  {
   "cell_type": "code",
   "execution_count": 73,
   "id": "550e0a7c-250e-47d7-9097-9be5f95dfdb3",
   "metadata": {},
   "outputs": [
    {
     "data": {
      "text/plain": [
       "ApplicantIncome      4140.386404\n",
       "CoapplicantIncome    1480.590197\n",
       "LoanAmount            132.684601\n",
       "Loan_Amount_Term      342.055046\n",
       "dtype: float64"
      ]
     },
     "execution_count": 73,
     "metadata": {},
     "output_type": "execute_result"
    }
   ],
   "source": [
    "df1_num.mean()"
   ]
  },
  {
   "cell_type": "code",
   "execution_count": 74,
   "id": "f3fa03e4-060c-4662-bdc4-ccd080798577",
   "metadata": {},
   "outputs": [
    {
     "name": "stderr",
     "output_type": "stream",
     "text": [
      "C:\\Users\\TEJASI\\AppData\\Local\\Temp/ipykernel_25076/339715271.py:1: SettingWithCopyWarning: \n",
      "A value is trying to be set on a copy of a slice from a DataFrame.\n",
      "Try using .loc[row_indexer,col_indexer] = value instead\n",
      "\n",
      "See the caveats in the documentation: https://pandas.pydata.org/pandas-docs/stable/user_guide/indexing.html#returning-a-view-versus-a-copy\n",
      "  df1_num[\"ApplicantIncome\"] = df1_num[\"ApplicantIncome\"].fillna(value =4124.72)\n",
      "C:\\Users\\TEJASI\\AppData\\Local\\Temp/ipykernel_25076/339715271.py:2: SettingWithCopyWarning: \n",
      "A value is trying to be set on a copy of a slice from a DataFrame.\n",
      "Try using .loc[row_indexer,col_indexer] = value instead\n",
      "\n",
      "See the caveats in the documentation: https://pandas.pydata.org/pandas-docs/stable/user_guide/indexing.html#returning-a-view-versus-a-copy\n",
      "  df1_num[\"CoapplicantIncome\"] = df1_num[\"CoapplicantIncome\"].fillna(value =1289.12)\n",
      "C:\\Users\\TEJASI\\AppData\\Local\\Temp/ipykernel_25076/339715271.py:3: SettingWithCopyWarning: \n",
      "A value is trying to be set on a copy of a slice from a DataFrame.\n",
      "Try using .loc[row_indexer,col_indexer] = value instead\n",
      "\n",
      "See the caveats in the documentation: https://pandas.pydata.org/pandas-docs/stable/user_guide/indexing.html#returning-a-view-versus-a-copy\n",
      "  df1_num[\"LoanAmount\"] = df1_num[\"LoanAmount\"].fillna(value =146.41)\n",
      "C:\\Users\\TEJASI\\AppData\\Local\\Temp/ipykernel_25076/339715271.py:4: SettingWithCopyWarning: \n",
      "A value is trying to be set on a copy of a slice from a DataFrame.\n",
      "Try using .loc[row_indexer,col_indexer] = value instead\n",
      "\n",
      "See the caveats in the documentation: https://pandas.pydata.org/pandas-docs/stable/user_guide/indexing.html#returning-a-view-versus-a-copy\n",
      "  df1_num[\"Loan_Amount_Term\"] = df1_num[\"Loan_Amount_Term\"].fillna(value =342)\n"
     ]
    }
   ],
   "source": [
    "df1_num[\"ApplicantIncome\"] = df1_num[\"ApplicantIncome\"].fillna(value =4124.72)\n",
    "df1_num[\"CoapplicantIncome\"] = df1_num[\"CoapplicantIncome\"].fillna(value =1289.12)\n",
    "df1_num[\"LoanAmount\"] = df1_num[\"LoanAmount\"].fillna(value =146.41)\n",
    "df1_num[\"Loan_Amount_Term\"] = df1_num[\"Loan_Amount_Term\"].fillna(value =342)\n"
   ]
  },
  {
   "cell_type": "code",
   "execution_count": 75,
   "id": "cfe830f1-212e-4df7-9995-69d0f8f896af",
   "metadata": {},
   "outputs": [
    {
     "data": {
      "text/plain": [
       "array([360., 120., 240., 342., 180.,  60., 300., 480.,  36.,  84.,  12.])"
      ]
     },
     "execution_count": 75,
     "metadata": {},
     "output_type": "execute_result"
    }
   ],
   "source": [
    "df1_num.Loan_Amount_Term.unique()"
   ]
  },
  {
   "cell_type": "code",
   "execution_count": 76,
   "id": "561138d9-52be-4d5c-94ae-262b45bdb315",
   "metadata": {},
   "outputs": [
    {
     "data": {
      "text/plain": [
       "ApplicantIncome      0\n",
       "CoapplicantIncome    0\n",
       "LoanAmount           0\n",
       "Loan_Amount_Term     0\n",
       "dtype: int64"
      ]
     },
     "execution_count": 76,
     "metadata": {},
     "output_type": "execute_result"
    }
   ],
   "source": [
    "df1_num.isnull().sum().sort_values(ascending= True)"
   ]
  },
  {
   "cell_type": "code",
   "execution_count": 77,
   "id": "7797d4c9-92fa-4c3c-80f6-39879412c86f",
   "metadata": {},
   "outputs": [
    {
     "data": {
      "text/plain": [
       "Gender            object\n",
       "Married           object\n",
       "Dependents        object\n",
       "Education         object\n",
       "Self_Employed     object\n",
       "Credit_History    object\n",
       "Property_Area     object\n",
       "Loan_Status       object\n",
       "dtype: object"
      ]
     },
     "execution_count": 77,
     "metadata": {},
     "output_type": "execute_result"
    }
   ],
   "source": [
    "df1_cat.dtypes"
   ]
  },
  {
   "cell_type": "code",
   "execution_count": 78,
   "id": "a0298653-d7b8-4de8-92be-09eaddf83117",
   "metadata": {},
   "outputs": [
    {
     "data": {
      "text/plain": [
       "ApplicantIncome        int64\n",
       "CoapplicantIncome    float64\n",
       "LoanAmount           float64\n",
       "Loan_Amount_Term     float64\n",
       "dtype: object"
      ]
     },
     "execution_count": 78,
     "metadata": {},
     "output_type": "execute_result"
    }
   ],
   "source": [
    "df1_num.dtypes"
   ]
  },
  {
   "cell_type": "code",
   "execution_count": 79,
   "id": "7316f4e0-527f-491b-bcd0-0d2d75d9b166",
   "metadata": {},
   "outputs": [
    {
     "name": "stderr",
     "output_type": "stream",
     "text": [
      "C:\\Users\\TEJASI\\anaconda3\\lib\\site-packages\\pandas\\core\\frame.py:4906: SettingWithCopyWarning: \n",
      "A value is trying to be set on a copy of a slice from a DataFrame\n",
      "\n",
      "See the caveats in the documentation: https://pandas.pydata.org/pandas-docs/stable/user_guide/indexing.html#returning-a-view-versus-a-copy\n",
      "  return super().drop(\n"
     ]
    }
   ],
   "source": [
    "value = {\"Y\":0, \"N\":1}\n",
    "target = df1_cat[\"Loan_Status\"]\n",
    "df1_cat.drop(\"Loan_Status\", axis = 1, inplace = True)\n",
    "target = target.map(value)"
   ]
  },
  {
   "cell_type": "code",
   "execution_count": 80,
   "id": "f86b8d55-854e-4932-851e-0d298f2eb64d",
   "metadata": {},
   "outputs": [
    {
     "data": {
      "text/html": [
       "<div>\n",
       "<style scoped>\n",
       "    .dataframe tbody tr th:only-of-type {\n",
       "        vertical-align: middle;\n",
       "    }\n",
       "\n",
       "    .dataframe tbody tr th {\n",
       "        vertical-align: top;\n",
       "    }\n",
       "\n",
       "    .dataframe thead th {\n",
       "        text-align: right;\n",
       "    }\n",
       "</style>\n",
       "<table border=\"1\" class=\"dataframe\">\n",
       "  <thead>\n",
       "    <tr style=\"text-align: right;\">\n",
       "      <th></th>\n",
       "      <th>Gender</th>\n",
       "      <th>Married</th>\n",
       "      <th>Dependents</th>\n",
       "      <th>Education</th>\n",
       "      <th>Self_Employed</th>\n",
       "      <th>Credit_History</th>\n",
       "      <th>Property_Area</th>\n",
       "    </tr>\n",
       "  </thead>\n",
       "  <tbody>\n",
       "    <tr>\n",
       "      <th>0</th>\n",
       "      <td>Male</td>\n",
       "      <td>No</td>\n",
       "      <td>0</td>\n",
       "      <td>Graduate</td>\n",
       "      <td>No</td>\n",
       "      <td>1.0</td>\n",
       "      <td>Urban</td>\n",
       "    </tr>\n",
       "    <tr>\n",
       "      <th>1</th>\n",
       "      <td>Male</td>\n",
       "      <td>Yes</td>\n",
       "      <td>1</td>\n",
       "      <td>Graduate</td>\n",
       "      <td>No</td>\n",
       "      <td>1.0</td>\n",
       "      <td>Rural</td>\n",
       "    </tr>\n",
       "    <tr>\n",
       "      <th>2</th>\n",
       "      <td>Male</td>\n",
       "      <td>Yes</td>\n",
       "      <td>0</td>\n",
       "      <td>Graduate</td>\n",
       "      <td>Yes</td>\n",
       "      <td>1.0</td>\n",
       "      <td>Urban</td>\n",
       "    </tr>\n",
       "    <tr>\n",
       "      <th>3</th>\n",
       "      <td>Male</td>\n",
       "      <td>Yes</td>\n",
       "      <td>0</td>\n",
       "      <td>Not Graduate</td>\n",
       "      <td>No</td>\n",
       "      <td>1.0</td>\n",
       "      <td>Urban</td>\n",
       "    </tr>\n",
       "    <tr>\n",
       "      <th>4</th>\n",
       "      <td>Male</td>\n",
       "      <td>No</td>\n",
       "      <td>0</td>\n",
       "      <td>Graduate</td>\n",
       "      <td>No</td>\n",
       "      <td>1.0</td>\n",
       "      <td>Urban</td>\n",
       "    </tr>\n",
       "    <tr>\n",
       "      <th>...</th>\n",
       "      <td>...</td>\n",
       "      <td>...</td>\n",
       "      <td>...</td>\n",
       "      <td>...</td>\n",
       "      <td>...</td>\n",
       "      <td>...</td>\n",
       "      <td>...</td>\n",
       "    </tr>\n",
       "    <tr>\n",
       "      <th>609</th>\n",
       "      <td>Female</td>\n",
       "      <td>No</td>\n",
       "      <td>0</td>\n",
       "      <td>Graduate</td>\n",
       "      <td>No</td>\n",
       "      <td>1.0</td>\n",
       "      <td>Rural</td>\n",
       "    </tr>\n",
       "    <tr>\n",
       "      <th>610</th>\n",
       "      <td>Male</td>\n",
       "      <td>Yes</td>\n",
       "      <td>3+</td>\n",
       "      <td>Graduate</td>\n",
       "      <td>No</td>\n",
       "      <td>1.0</td>\n",
       "      <td>Rural</td>\n",
       "    </tr>\n",
       "    <tr>\n",
       "      <th>611</th>\n",
       "      <td>Male</td>\n",
       "      <td>Yes</td>\n",
       "      <td>1</td>\n",
       "      <td>Graduate</td>\n",
       "      <td>No</td>\n",
       "      <td>1.0</td>\n",
       "      <td>Urban</td>\n",
       "    </tr>\n",
       "    <tr>\n",
       "      <th>612</th>\n",
       "      <td>Male</td>\n",
       "      <td>Yes</td>\n",
       "      <td>2</td>\n",
       "      <td>Graduate</td>\n",
       "      <td>No</td>\n",
       "      <td>1.0</td>\n",
       "      <td>Urban</td>\n",
       "    </tr>\n",
       "    <tr>\n",
       "      <th>613</th>\n",
       "      <td>Female</td>\n",
       "      <td>No</td>\n",
       "      <td>0</td>\n",
       "      <td>Graduate</td>\n",
       "      <td>Yes</td>\n",
       "      <td>0.0</td>\n",
       "      <td>Semiurban</td>\n",
       "    </tr>\n",
       "  </tbody>\n",
       "</table>\n",
       "<p>559 rows × 7 columns</p>\n",
       "</div>"
      ],
      "text/plain": [
       "     Gender Married Dependents     Education Self_Employed Credit_History  \\\n",
       "0      Male      No          0      Graduate            No            1.0   \n",
       "1      Male     Yes          1      Graduate            No            1.0   \n",
       "2      Male     Yes          0      Graduate           Yes            1.0   \n",
       "3      Male     Yes          0  Not Graduate            No            1.0   \n",
       "4      Male      No          0      Graduate            No            1.0   \n",
       "..      ...     ...        ...           ...           ...            ...   \n",
       "609  Female      No          0      Graduate            No            1.0   \n",
       "610    Male     Yes         3+      Graduate            No            1.0   \n",
       "611    Male     Yes          1      Graduate            No            1.0   \n",
       "612    Male     Yes          2      Graduate            No            1.0   \n",
       "613  Female      No          0      Graduate           Yes            0.0   \n",
       "\n",
       "    Property_Area  \n",
       "0           Urban  \n",
       "1           Rural  \n",
       "2           Urban  \n",
       "3           Urban  \n",
       "4           Urban  \n",
       "..            ...  \n",
       "609         Rural  \n",
       "610         Rural  \n",
       "611         Urban  \n",
       "612         Urban  \n",
       "613     Semiurban  \n",
       "\n",
       "[559 rows x 7 columns]"
      ]
     },
     "execution_count": 80,
     "metadata": {},
     "output_type": "execute_result"
    }
   ],
   "source": [
    "df1_cat"
   ]
  },
  {
   "cell_type": "code",
   "execution_count": 81,
   "id": "bd64cd8f-2424-4a73-80b6-89a6b98fd10b",
   "metadata": {},
   "outputs": [
    {
     "name": "stderr",
     "output_type": "stream",
     "text": [
      "C:\\Users\\TEJASI\\AppData\\Local\\Temp/ipykernel_25076/789678886.py:1: SettingWithCopyWarning: \n",
      "A value is trying to be set on a copy of a slice from a DataFrame.\n",
      "Try using .loc[row_indexer,col_indexer] = value instead\n",
      "\n",
      "See the caveats in the documentation: https://pandas.pydata.org/pandas-docs/stable/user_guide/indexing.html#returning-a-view-versus-a-copy\n",
      "  df1_cat[\"Credit_History\"]= df1_cat[\"Credit_History\"].astype(\"str\")\n"
     ]
    }
   ],
   "source": [
    "df1_cat[\"Credit_History\"]= df1_cat[\"Credit_History\"].astype(\"str\")\n"
   ]
  },
  {
   "cell_type": "code",
   "execution_count": 82,
   "id": "3964f527-258c-4a5a-b9a7-51ccede6c7e8",
   "metadata": {},
   "outputs": [],
   "source": [
    "import warnings\n",
    "warnings.filterwarnings('ignore')\n",
    "from sklearn.preprocessing import LabelEncoder  \n",
    "le = LabelEncoder()\n",
    "for i in df1_cat:\n",
    "    df1_cat[i] = le.fit_transform(df1_cat[i])"
   ]
  },
  {
   "cell_type": "code",
   "execution_count": 83,
   "id": "217089f6-6397-4ae3-94df-5b22fb730747",
   "metadata": {},
   "outputs": [
    {
     "data": {
      "text/plain": [
       "ApplicantIncome        int64\n",
       "CoapplicantIncome    float64\n",
       "LoanAmount           float64\n",
       "Loan_Amount_Term     float64\n",
       "dtype: object"
      ]
     },
     "execution_count": 83,
     "metadata": {},
     "output_type": "execute_result"
    }
   ],
   "source": [
    "df1_num.dtypes"
   ]
  },
  {
   "cell_type": "code",
   "execution_count": 84,
   "id": "96dc877a-f7ae-4a6f-baa7-b46618a8b488",
   "metadata": {},
   "outputs": [
    {
     "data": {
      "text/html": [
       "<div>\n",
       "<style scoped>\n",
       "    .dataframe tbody tr th:only-of-type {\n",
       "        vertical-align: middle;\n",
       "    }\n",
       "\n",
       "    .dataframe tbody tr th {\n",
       "        vertical-align: top;\n",
       "    }\n",
       "\n",
       "    .dataframe thead th {\n",
       "        text-align: right;\n",
       "    }\n",
       "</style>\n",
       "<table border=\"1\" class=\"dataframe\">\n",
       "  <thead>\n",
       "    <tr style=\"text-align: right;\">\n",
       "      <th></th>\n",
       "      <th>Gender</th>\n",
       "      <th>Married</th>\n",
       "      <th>Dependents</th>\n",
       "      <th>Education</th>\n",
       "      <th>Self_Employed</th>\n",
       "      <th>Credit_History</th>\n",
       "      <th>Property_Area</th>\n",
       "    </tr>\n",
       "  </thead>\n",
       "  <tbody>\n",
       "    <tr>\n",
       "      <th>0</th>\n",
       "      <td>1</td>\n",
       "      <td>0</td>\n",
       "      <td>0</td>\n",
       "      <td>0</td>\n",
       "      <td>1</td>\n",
       "      <td>1</td>\n",
       "      <td>2</td>\n",
       "    </tr>\n",
       "    <tr>\n",
       "      <th>1</th>\n",
       "      <td>1</td>\n",
       "      <td>1</td>\n",
       "      <td>1</td>\n",
       "      <td>0</td>\n",
       "      <td>1</td>\n",
       "      <td>1</td>\n",
       "      <td>0</td>\n",
       "    </tr>\n",
       "    <tr>\n",
       "      <th>2</th>\n",
       "      <td>1</td>\n",
       "      <td>1</td>\n",
       "      <td>0</td>\n",
       "      <td>0</td>\n",
       "      <td>2</td>\n",
       "      <td>1</td>\n",
       "      <td>2</td>\n",
       "    </tr>\n",
       "    <tr>\n",
       "      <th>3</th>\n",
       "      <td>1</td>\n",
       "      <td>1</td>\n",
       "      <td>0</td>\n",
       "      <td>1</td>\n",
       "      <td>1</td>\n",
       "      <td>1</td>\n",
       "      <td>2</td>\n",
       "    </tr>\n",
       "    <tr>\n",
       "      <th>4</th>\n",
       "      <td>1</td>\n",
       "      <td>0</td>\n",
       "      <td>0</td>\n",
       "      <td>0</td>\n",
       "      <td>1</td>\n",
       "      <td>1</td>\n",
       "      <td>2</td>\n",
       "    </tr>\n",
       "    <tr>\n",
       "      <th>5</th>\n",
       "      <td>1</td>\n",
       "      <td>1</td>\n",
       "      <td>2</td>\n",
       "      <td>0</td>\n",
       "      <td>2</td>\n",
       "      <td>1</td>\n",
       "      <td>2</td>\n",
       "    </tr>\n",
       "    <tr>\n",
       "      <th>6</th>\n",
       "      <td>1</td>\n",
       "      <td>1</td>\n",
       "      <td>0</td>\n",
       "      <td>1</td>\n",
       "      <td>1</td>\n",
       "      <td>1</td>\n",
       "      <td>2</td>\n",
       "    </tr>\n",
       "    <tr>\n",
       "      <th>7</th>\n",
       "      <td>1</td>\n",
       "      <td>1</td>\n",
       "      <td>3</td>\n",
       "      <td>0</td>\n",
       "      <td>1</td>\n",
       "      <td>0</td>\n",
       "      <td>1</td>\n",
       "    </tr>\n",
       "    <tr>\n",
       "      <th>8</th>\n",
       "      <td>1</td>\n",
       "      <td>1</td>\n",
       "      <td>2</td>\n",
       "      <td>0</td>\n",
       "      <td>1</td>\n",
       "      <td>1</td>\n",
       "      <td>2</td>\n",
       "    </tr>\n",
       "    <tr>\n",
       "      <th>10</th>\n",
       "      <td>1</td>\n",
       "      <td>1</td>\n",
       "      <td>2</td>\n",
       "      <td>0</td>\n",
       "      <td>1</td>\n",
       "      <td>1</td>\n",
       "      <td>2</td>\n",
       "    </tr>\n",
       "  </tbody>\n",
       "</table>\n",
       "</div>"
      ],
      "text/plain": [
       "    Gender  Married  Dependents  Education  Self_Employed  Credit_History  \\\n",
       "0        1        0           0          0              1               1   \n",
       "1        1        1           1          0              1               1   \n",
       "2        1        1           0          0              2               1   \n",
       "3        1        1           0          1              1               1   \n",
       "4        1        0           0          0              1               1   \n",
       "5        1        1           2          0              2               1   \n",
       "6        1        1           0          1              1               1   \n",
       "7        1        1           3          0              1               0   \n",
       "8        1        1           2          0              1               1   \n",
       "10       1        1           2          0              1               1   \n",
       "\n",
       "    Property_Area  \n",
       "0               2  \n",
       "1               0  \n",
       "2               2  \n",
       "3               2  \n",
       "4               2  \n",
       "5               2  \n",
       "6               2  \n",
       "7               1  \n",
       "8               2  \n",
       "10              2  "
      ]
     },
     "execution_count": 84,
     "metadata": {},
     "output_type": "execute_result"
    }
   ],
   "source": [
    "df1_cat.head(10)"
   ]
  },
  {
   "cell_type": "code",
   "execution_count": 85,
   "id": "93b14806-327e-444f-bda2-8e378fe32ada",
   "metadata": {},
   "outputs": [],
   "source": [
    "# Now lets join all data frame.\n",
    "df1_fin = pd.concat([df1_cat, df1_num, target] , axis=1)"
   ]
  },
  {
   "cell_type": "code",
   "execution_count": 86,
   "id": "c8915fd1-d3e6-4a74-9194-d384840be3e7",
   "metadata": {},
   "outputs": [
    {
     "data": {
      "text/plain": [
       "dtype('float64')"
      ]
     },
     "execution_count": 86,
     "metadata": {},
     "output_type": "execute_result"
    }
   ],
   "source": [
    "df1_num.Loan_Amount_Term.dtypes"
   ]
  },
  {
   "cell_type": "code",
   "execution_count": 87,
   "id": "3509e7a0-5a36-49d6-a9d9-2140f63d32ee",
   "metadata": {},
   "outputs": [
    {
     "data": {
      "text/html": [
       "<div>\n",
       "<style scoped>\n",
       "    .dataframe tbody tr th:only-of-type {\n",
       "        vertical-align: middle;\n",
       "    }\n",
       "\n",
       "    .dataframe tbody tr th {\n",
       "        vertical-align: top;\n",
       "    }\n",
       "\n",
       "    .dataframe thead th {\n",
       "        text-align: right;\n",
       "    }\n",
       "</style>\n",
       "<table border=\"1\" class=\"dataframe\">\n",
       "  <thead>\n",
       "    <tr style=\"text-align: right;\">\n",
       "      <th></th>\n",
       "      <th>Gender</th>\n",
       "      <th>Married</th>\n",
       "      <th>Dependents</th>\n",
       "      <th>Education</th>\n",
       "      <th>Self_Employed</th>\n",
       "      <th>Credit_History</th>\n",
       "      <th>Property_Area</th>\n",
       "      <th>ApplicantIncome</th>\n",
       "      <th>CoapplicantIncome</th>\n",
       "      <th>LoanAmount</th>\n",
       "      <th>Loan_Amount_Term</th>\n",
       "      <th>Loan_Status</th>\n",
       "    </tr>\n",
       "  </thead>\n",
       "  <tbody>\n",
       "    <tr>\n",
       "      <th>0</th>\n",
       "      <td>1</td>\n",
       "      <td>0</td>\n",
       "      <td>0</td>\n",
       "      <td>0</td>\n",
       "      <td>1</td>\n",
       "      <td>1</td>\n",
       "      <td>2</td>\n",
       "      <td>5849</td>\n",
       "      <td>0.0</td>\n",
       "      <td>146.41</td>\n",
       "      <td>360.0</td>\n",
       "      <td>0</td>\n",
       "    </tr>\n",
       "    <tr>\n",
       "      <th>1</th>\n",
       "      <td>1</td>\n",
       "      <td>1</td>\n",
       "      <td>1</td>\n",
       "      <td>0</td>\n",
       "      <td>1</td>\n",
       "      <td>1</td>\n",
       "      <td>0</td>\n",
       "      <td>4583</td>\n",
       "      <td>1508.0</td>\n",
       "      <td>128.00</td>\n",
       "      <td>360.0</td>\n",
       "      <td>1</td>\n",
       "    </tr>\n",
       "    <tr>\n",
       "      <th>2</th>\n",
       "      <td>1</td>\n",
       "      <td>1</td>\n",
       "      <td>0</td>\n",
       "      <td>0</td>\n",
       "      <td>2</td>\n",
       "      <td>1</td>\n",
       "      <td>2</td>\n",
       "      <td>3000</td>\n",
       "      <td>0.0</td>\n",
       "      <td>66.00</td>\n",
       "      <td>360.0</td>\n",
       "      <td>0</td>\n",
       "    </tr>\n",
       "    <tr>\n",
       "      <th>3</th>\n",
       "      <td>1</td>\n",
       "      <td>1</td>\n",
       "      <td>0</td>\n",
       "      <td>1</td>\n",
       "      <td>1</td>\n",
       "      <td>1</td>\n",
       "      <td>2</td>\n",
       "      <td>2583</td>\n",
       "      <td>2358.0</td>\n",
       "      <td>120.00</td>\n",
       "      <td>360.0</td>\n",
       "      <td>0</td>\n",
       "    </tr>\n",
       "    <tr>\n",
       "      <th>4</th>\n",
       "      <td>1</td>\n",
       "      <td>0</td>\n",
       "      <td>0</td>\n",
       "      <td>0</td>\n",
       "      <td>1</td>\n",
       "      <td>1</td>\n",
       "      <td>2</td>\n",
       "      <td>6000</td>\n",
       "      <td>0.0</td>\n",
       "      <td>141.00</td>\n",
       "      <td>360.0</td>\n",
       "      <td>0</td>\n",
       "    </tr>\n",
       "  </tbody>\n",
       "</table>\n",
       "</div>"
      ],
      "text/plain": [
       "   Gender  Married  Dependents  Education  Self_Employed  Credit_History  \\\n",
       "0       1        0           0          0              1               1   \n",
       "1       1        1           1          0              1               1   \n",
       "2       1        1           0          0              2               1   \n",
       "3       1        1           0          1              1               1   \n",
       "4       1        0           0          0              1               1   \n",
       "\n",
       "   Property_Area  ApplicantIncome  CoapplicantIncome  LoanAmount  \\\n",
       "0              2             5849                0.0      146.41   \n",
       "1              0             4583             1508.0      128.00   \n",
       "2              2             3000                0.0       66.00   \n",
       "3              2             2583             2358.0      120.00   \n",
       "4              2             6000                0.0      141.00   \n",
       "\n",
       "   Loan_Amount_Term  Loan_Status  \n",
       "0             360.0            0  \n",
       "1             360.0            1  \n",
       "2             360.0            0  \n",
       "3             360.0            0  \n",
       "4             360.0            0  "
      ]
     },
     "execution_count": 87,
     "metadata": {},
     "output_type": "execute_result"
    }
   ],
   "source": [
    "df1_fin.head()"
   ]
  },
  {
   "cell_type": "code",
   "execution_count": 88,
   "id": "4e0ca9e2-e01e-4731-98b7-72c9fcd402a2",
   "metadata": {},
   "outputs": [
    {
     "name": "stdout",
     "output_type": "stream",
     "text": [
      "<class 'pandas.core.frame.DataFrame'>\n",
      "Int64Index: 559 entries, 0 to 613\n",
      "Data columns (total 12 columns):\n",
      " #   Column             Non-Null Count  Dtype  \n",
      "---  ------             --------------  -----  \n",
      " 0   Gender             559 non-null    int32  \n",
      " 1   Married            559 non-null    int32  \n",
      " 2   Dependents         559 non-null    int32  \n",
      " 3   Education          559 non-null    int32  \n",
      " 4   Self_Employed      559 non-null    int32  \n",
      " 5   Credit_History     559 non-null    int32  \n",
      " 6   Property_Area      559 non-null    int32  \n",
      " 7   ApplicantIncome    559 non-null    int64  \n",
      " 8   CoapplicantIncome  559 non-null    float64\n",
      " 9   LoanAmount         559 non-null    float64\n",
      " 10  Loan_Amount_Term   559 non-null    float64\n",
      " 11  Loan_Status        559 non-null    int64  \n",
      "dtypes: float64(3), int32(7), int64(2)\n",
      "memory usage: 57.7 KB\n"
     ]
    }
   ],
   "source": [
    "df1_fin.info()"
   ]
  },
  {
   "cell_type": "code",
   "execution_count": 89,
   "id": "fd1b4b17-5d17-4e36-bba0-8624f82cf34a",
   "metadata": {},
   "outputs": [
    {
     "data": {
      "text/html": [
       "<div>\n",
       "<style scoped>\n",
       "    .dataframe tbody tr th:only-of-type {\n",
       "        vertical-align: middle;\n",
       "    }\n",
       "\n",
       "    .dataframe tbody tr th {\n",
       "        vertical-align: top;\n",
       "    }\n",
       "\n",
       "    .dataframe thead th {\n",
       "        text-align: right;\n",
       "    }\n",
       "</style>\n",
       "<table border=\"1\" class=\"dataframe\">\n",
       "  <thead>\n",
       "    <tr style=\"text-align: right;\">\n",
       "      <th></th>\n",
       "      <th>Gender</th>\n",
       "      <th>Married</th>\n",
       "      <th>Dependents</th>\n",
       "      <th>Education</th>\n",
       "      <th>Self_Employed</th>\n",
       "      <th>Credit_History</th>\n",
       "      <th>Property_Area</th>\n",
       "      <th>ApplicantIncome</th>\n",
       "      <th>CoapplicantIncome</th>\n",
       "      <th>LoanAmount</th>\n",
       "      <th>Loan_Amount_Term</th>\n",
       "      <th>Loan_Status</th>\n",
       "    </tr>\n",
       "  </thead>\n",
       "  <tbody>\n",
       "    <tr>\n",
       "      <th>Gender</th>\n",
       "      <td>1.000000</td>\n",
       "      <td>0.375583</td>\n",
       "      <td>0.190602</td>\n",
       "      <td>0.066371</td>\n",
       "      <td>0.042702</td>\n",
       "      <td>0.016053</td>\n",
       "      <td>-0.006921</td>\n",
       "      <td>0.085337</td>\n",
       "      <td>0.189077</td>\n",
       "      <td>0.154311</td>\n",
       "      <td>-0.079816</td>\n",
       "      <td>-0.038175</td>\n",
       "    </tr>\n",
       "    <tr>\n",
       "      <th>Married</th>\n",
       "      <td>0.375583</td>\n",
       "      <td>1.000000</td>\n",
       "      <td>0.338416</td>\n",
       "      <td>0.024867</td>\n",
       "      <td>0.035472</td>\n",
       "      <td>0.009492</td>\n",
       "      <td>0.016581</td>\n",
       "      <td>0.006970</td>\n",
       "      <td>0.235539</td>\n",
       "      <td>0.175434</td>\n",
       "      <td>-0.093009</td>\n",
       "      <td>-0.078739</td>\n",
       "    </tr>\n",
       "    <tr>\n",
       "      <th>Dependents</th>\n",
       "      <td>0.190602</td>\n",
       "      <td>0.338416</td>\n",
       "      <td>1.000000</td>\n",
       "      <td>0.076489</td>\n",
       "      <td>0.075425</td>\n",
       "      <td>-0.026318</td>\n",
       "      <td>0.013070</td>\n",
       "      <td>0.132431</td>\n",
       "      <td>-0.036633</td>\n",
       "      <td>0.133796</td>\n",
       "      <td>-0.082577</td>\n",
       "      <td>-0.016320</td>\n",
       "    </tr>\n",
       "    <tr>\n",
       "      <th>Education</th>\n",
       "      <td>0.066371</td>\n",
       "      <td>0.024867</td>\n",
       "      <td>0.076489</td>\n",
       "      <td>1.000000</td>\n",
       "      <td>0.002722</td>\n",
       "      <td>-0.082243</td>\n",
       "      <td>-0.060843</td>\n",
       "      <td>-0.166305</td>\n",
       "      <td>-0.061120</td>\n",
       "      <td>-0.142285</td>\n",
       "      <td>-0.084713</td>\n",
       "      <td>0.106226</td>\n",
       "    </tr>\n",
       "    <tr>\n",
       "      <th>Self_Employed</th>\n",
       "      <td>0.042702</td>\n",
       "      <td>0.035472</td>\n",
       "      <td>0.075425</td>\n",
       "      <td>0.002722</td>\n",
       "      <td>1.000000</td>\n",
       "      <td>-0.020466</td>\n",
       "      <td>-0.054007</td>\n",
       "      <td>0.189981</td>\n",
       "      <td>-0.009705</td>\n",
       "      <td>0.128540</td>\n",
       "      <td>-0.056319</td>\n",
       "      <td>0.006503</td>\n",
       "    </tr>\n",
       "    <tr>\n",
       "      <th>Credit_History</th>\n",
       "      <td>0.016053</td>\n",
       "      <td>0.009492</td>\n",
       "      <td>-0.026318</td>\n",
       "      <td>-0.082243</td>\n",
       "      <td>-0.020466</td>\n",
       "      <td>1.000000</td>\n",
       "      <td>0.009363</td>\n",
       "      <td>0.053191</td>\n",
       "      <td>-0.006582</td>\n",
       "      <td>0.023235</td>\n",
       "      <td>-0.016131</td>\n",
       "      <td>-0.553903</td>\n",
       "    </tr>\n",
       "    <tr>\n",
       "      <th>Property_Area</th>\n",
       "      <td>-0.006921</td>\n",
       "      <td>0.016581</td>\n",
       "      <td>0.013070</td>\n",
       "      <td>-0.060843</td>\n",
       "      <td>-0.054007</td>\n",
       "      <td>0.009363</td>\n",
       "      <td>1.000000</td>\n",
       "      <td>-0.088949</td>\n",
       "      <td>-0.079081</td>\n",
       "      <td>-0.108585</td>\n",
       "      <td>-0.076053</td>\n",
       "      <td>-0.029907</td>\n",
       "    </tr>\n",
       "    <tr>\n",
       "      <th>ApplicantIncome</th>\n",
       "      <td>0.085337</td>\n",
       "      <td>0.006970</td>\n",
       "      <td>0.132431</td>\n",
       "      <td>-0.166305</td>\n",
       "      <td>0.189981</td>\n",
       "      <td>0.053191</td>\n",
       "      <td>-0.088949</td>\n",
       "      <td>1.000000</td>\n",
       "      <td>-0.163609</td>\n",
       "      <td>0.516047</td>\n",
       "      <td>-0.044497</td>\n",
       "      <td>-0.007053</td>\n",
       "    </tr>\n",
       "    <tr>\n",
       "      <th>CoapplicantIncome</th>\n",
       "      <td>0.189077</td>\n",
       "      <td>0.235539</td>\n",
       "      <td>-0.036633</td>\n",
       "      <td>-0.061120</td>\n",
       "      <td>-0.009705</td>\n",
       "      <td>-0.006582</td>\n",
       "      <td>-0.079081</td>\n",
       "      <td>-0.163609</td>\n",
       "      <td>1.000000</td>\n",
       "      <td>0.392380</td>\n",
       "      <td>-0.028961</td>\n",
       "      <td>-0.056909</td>\n",
       "    </tr>\n",
       "    <tr>\n",
       "      <th>LoanAmount</th>\n",
       "      <td>0.154311</td>\n",
       "      <td>0.175434</td>\n",
       "      <td>0.133796</td>\n",
       "      <td>-0.142285</td>\n",
       "      <td>0.128540</td>\n",
       "      <td>0.023235</td>\n",
       "      <td>-0.108585</td>\n",
       "      <td>0.516047</td>\n",
       "      <td>0.392380</td>\n",
       "      <td>1.000000</td>\n",
       "      <td>0.082709</td>\n",
       "      <td>0.016517</td>\n",
       "    </tr>\n",
       "    <tr>\n",
       "      <th>Loan_Amount_Term</th>\n",
       "      <td>-0.079816</td>\n",
       "      <td>-0.093009</td>\n",
       "      <td>-0.082577</td>\n",
       "      <td>-0.084713</td>\n",
       "      <td>-0.056319</td>\n",
       "      <td>-0.016131</td>\n",
       "      <td>-0.076053</td>\n",
       "      <td>-0.044497</td>\n",
       "      <td>-0.028961</td>\n",
       "      <td>0.082709</td>\n",
       "      <td>1.000000</td>\n",
       "      <td>0.021381</td>\n",
       "    </tr>\n",
       "    <tr>\n",
       "      <th>Loan_Status</th>\n",
       "      <td>-0.038175</td>\n",
       "      <td>-0.078739</td>\n",
       "      <td>-0.016320</td>\n",
       "      <td>0.106226</td>\n",
       "      <td>0.006503</td>\n",
       "      <td>-0.553903</td>\n",
       "      <td>-0.029907</td>\n",
       "      <td>-0.007053</td>\n",
       "      <td>-0.056909</td>\n",
       "      <td>0.016517</td>\n",
       "      <td>0.021381</td>\n",
       "      <td>1.000000</td>\n",
       "    </tr>\n",
       "  </tbody>\n",
       "</table>\n",
       "</div>"
      ],
      "text/plain": [
       "                     Gender   Married  Dependents  Education  Self_Employed  \\\n",
       "Gender             1.000000  0.375583    0.190602   0.066371       0.042702   \n",
       "Married            0.375583  1.000000    0.338416   0.024867       0.035472   \n",
       "Dependents         0.190602  0.338416    1.000000   0.076489       0.075425   \n",
       "Education          0.066371  0.024867    0.076489   1.000000       0.002722   \n",
       "Self_Employed      0.042702  0.035472    0.075425   0.002722       1.000000   \n",
       "Credit_History     0.016053  0.009492   -0.026318  -0.082243      -0.020466   \n",
       "Property_Area     -0.006921  0.016581    0.013070  -0.060843      -0.054007   \n",
       "ApplicantIncome    0.085337  0.006970    0.132431  -0.166305       0.189981   \n",
       "CoapplicantIncome  0.189077  0.235539   -0.036633  -0.061120      -0.009705   \n",
       "LoanAmount         0.154311  0.175434    0.133796  -0.142285       0.128540   \n",
       "Loan_Amount_Term  -0.079816 -0.093009   -0.082577  -0.084713      -0.056319   \n",
       "Loan_Status       -0.038175 -0.078739   -0.016320   0.106226       0.006503   \n",
       "\n",
       "                   Credit_History  Property_Area  ApplicantIncome  \\\n",
       "Gender                   0.016053      -0.006921         0.085337   \n",
       "Married                  0.009492       0.016581         0.006970   \n",
       "Dependents              -0.026318       0.013070         0.132431   \n",
       "Education               -0.082243      -0.060843        -0.166305   \n",
       "Self_Employed           -0.020466      -0.054007         0.189981   \n",
       "Credit_History           1.000000       0.009363         0.053191   \n",
       "Property_Area            0.009363       1.000000        -0.088949   \n",
       "ApplicantIncome          0.053191      -0.088949         1.000000   \n",
       "CoapplicantIncome       -0.006582      -0.079081        -0.163609   \n",
       "LoanAmount               0.023235      -0.108585         0.516047   \n",
       "Loan_Amount_Term        -0.016131      -0.076053        -0.044497   \n",
       "Loan_Status             -0.553903      -0.029907        -0.007053   \n",
       "\n",
       "                   CoapplicantIncome  LoanAmount  Loan_Amount_Term  \\\n",
       "Gender                      0.189077    0.154311         -0.079816   \n",
       "Married                     0.235539    0.175434         -0.093009   \n",
       "Dependents                 -0.036633    0.133796         -0.082577   \n",
       "Education                  -0.061120   -0.142285         -0.084713   \n",
       "Self_Employed              -0.009705    0.128540         -0.056319   \n",
       "Credit_History             -0.006582    0.023235         -0.016131   \n",
       "Property_Area              -0.079081   -0.108585         -0.076053   \n",
       "ApplicantIncome            -0.163609    0.516047         -0.044497   \n",
       "CoapplicantIncome           1.000000    0.392380         -0.028961   \n",
       "LoanAmount                  0.392380    1.000000          0.082709   \n",
       "Loan_Amount_Term           -0.028961    0.082709          1.000000   \n",
       "Loan_Status                -0.056909    0.016517          0.021381   \n",
       "\n",
       "                   Loan_Status  \n",
       "Gender               -0.038175  \n",
       "Married              -0.078739  \n",
       "Dependents           -0.016320  \n",
       "Education             0.106226  \n",
       "Self_Employed         0.006503  \n",
       "Credit_History       -0.553903  \n",
       "Property_Area        -0.029907  \n",
       "ApplicantIncome      -0.007053  \n",
       "CoapplicantIncome    -0.056909  \n",
       "LoanAmount            0.016517  \n",
       "Loan_Amount_Term      0.021381  \n",
       "Loan_Status           1.000000  "
      ]
     },
     "execution_count": 89,
     "metadata": {},
     "output_type": "execute_result"
    }
   ],
   "source": [
    "corr = df1_fin.corr()\n",
    "corr"
   ]
  },
  {
   "cell_type": "code",
   "execution_count": 90,
   "id": "e09226c9-6f24-4849-b2f9-c3744b36feb4",
   "metadata": {},
   "outputs": [
    {
     "data": {
      "image/png": "[encoded data removed]",
      "text/plain": [
       "<Figure size 720x504 with 2 Axes>"
      ]
     },
     "metadata": {
      "needs_background": "light"
     },
     "output_type": "display_data"
    }
   ],
   "source": [
    "plt.figure(figsize=(10,7))\n",
    "sns.heatmap(corr, annot=True);"
   ]
  },
  {
   "cell_type": "code",
   "execution_count": 91,
   "id": "a7362ee1-58d4-45e9-937b-4c11d0fb4c80",
   "metadata": {},
   "outputs": [],
   "source": [
    "#now lets separate the target varibale and the independent varible\n",
    "X = df1_fin.drop(\"Loan_Status\", axis = 1)"
   ]
  },
  {
   "cell_type": "code",
   "execution_count": 92,
   "id": "bcf317cf-3f9f-4945-83b2-fa5bd064e55f",
   "metadata": {},
   "outputs": [
    {
     "data": {
      "text/plain": [
       "(559, 11)"
      ]
     },
     "execution_count": 92,
     "metadata": {},
     "output_type": "execute_result"
    }
   ],
   "source": [
    "X.shape"
   ]
  },
  {
   "cell_type": "code",
   "execution_count": 93,
   "id": "fc2d9dd8-f833-44a6-8416-34de248c711c",
   "metadata": {},
   "outputs": [],
   "source": [
    "y = df1_fin[\"Loan_Status\"]"
   ]
  },
  {
   "cell_type": "code",
   "execution_count": 94,
   "id": "9a919d3a-245d-403d-9154-7802fffc2ded",
   "metadata": {},
   "outputs": [
    {
     "data": {
      "text/plain": [
       "(559,)"
      ]
     },
     "execution_count": 94,
     "metadata": {},
     "output_type": "execute_result"
    }
   ],
   "source": [
    "y.shape"
   ]
  },
  {
   "cell_type": "code",
   "execution_count": 95,
   "id": "a7a16898-0cf2-4e29-8cac-0c8c09753606",
   "metadata": {},
   "outputs": [],
   "source": [
    "#lets do train test split"
   ]
  },
  {
   "cell_type": "code",
   "execution_count": 96,
   "id": "5319a237-317c-4715-a5ef-9a591ae859b4",
   "metadata": {},
   "outputs": [
    {
     "name": "stdout",
     "output_type": "stream",
     "text": [
      "X_train shape (374, 11)\n",
      "y_train shape (374,)\n",
      "X_test shape (185, 11)\n",
      "y_test shape (185,)\n"
     ]
    }
   ],
   "source": [
    "from sklearn.model_selection import train_test_split\n",
    "X_train, X_test, y_train, y_test = train_test_split(X, y, test_size=0.33, random_state=42)\n",
    "print('X_train shape', X_train.shape)\n",
    "print('y_train shape', y_train.shape)\n",
    "print('X_test shape', X_test.shape)\n",
    "print('y_test shape', y_test.shape)\n"
   ]
  },
  {
   "cell_type": "code",
   "execution_count": 97,
   "id": "cf0981d9-315c-4f4e-b933-67b0a9cf71c0",
   "metadata": {},
   "outputs": [],
   "source": [
    "# we will use 4 different models for training \n",
    "from sklearn.linear_model import LogisticRegression\n",
    "from sklearn.neighbors import KNeighborsClassifier\n",
    "from sklearn.svm import SVC\n",
    "from sklearn.tree import DecisionTreeClassifier\n",
    "\n",
    "models = {\n",
    "    'LogisticRegression': LogisticRegression(random_state=42),\n",
    "    'KNeighborsClassifier': KNeighborsClassifier(),\n",
    "    'SVC': SVC(random_state=42),\n",
    "    'DecisionTreeClassifier': DecisionTreeClassifier(max_depth=1, random_state=42)\n",
    "}\n",
    "\n"
   ]
  },
  {
   "cell_type": "code",
   "execution_count": 98,
   "id": "161911fd-ed00-408a-b6d5-8a3710aec1dd",
   "metadata": {},
   "outputs": [],
   "source": [
    "#Now lets bulit the funtion\n",
    "from sklearn.metrics import precision_score, recall_score, f1_score, log_loss, accuracy_score, confusion_matrix\n",
    "def loss(y_test,y_pred):\n",
    "    pre = precision_score(y_test, y_pred)\n",
    "    rec = recall_score(y_test, y_pred)\n",
    "    f1 = f1_score(y_test, y_pred)\n",
    "    loss = log_loss(y_test, y_pred)\n",
    "    acc = accuracy_score(y_test, y_pred)\n",
    "    \n",
    "    print('  pre: %.3f\\n  rec: %.3f\\n  f1: %.3f\\n  loss: %.3f\\n  acc: %.3f ' % (pre, rec, f1, loss, acc))\n",
    "    \n"
   ]
  },
  {
   "cell_type": "code",
   "execution_count": 99,
   "id": "8e0b2924-522d-482e-bb23-3d0d265e193d",
   "metadata": {},
   "outputs": [
    {
     "name": "stdout",
     "output_type": "stream",
     "text": [
      "LogisticRegression :\n",
      "  pre: 0.784\n",
      "  rec: 0.558\n",
      "  f1: 0.652\n",
      "  loss: 5.788\n",
      "  acc: 0.832 \n",
      "-\n",
      "KNeighborsClassifier :\n",
      "  pre: 0.321\n",
      "  rec: 0.173\n",
      "  f1: 0.225\n",
      "  loss: 11.575\n",
      "  acc: 0.665 \n",
      "-\n",
      "SVC :\n",
      "  pre: 0.000\n",
      "  rec: 0.000\n",
      "  f1: 0.000\n",
      "  loss: 9.708\n",
      "  acc: 0.719 \n",
      "-\n",
      "DecisionTreeClassifier :\n",
      "  pre: 0.929\n",
      "  rec: 0.500\n",
      "  f1: 0.650\n",
      "  loss: 5.227\n",
      "  acc: 0.849 \n",
      "-\n"
     ]
    }
   ],
   "source": [
    "# now lets train the model\n",
    "def train(models, X, y):\n",
    "    for name , model in models.items():\n",
    "        print(name, \":\")\n",
    "        model.fit(X,y)\n",
    "        y_pred_prob = model.predict(X_test)\n",
    "        y_pred = [0 if x < 0.5 else 1 for x in y_pred_prob]\n",
    "        loss(y_test,y_pred)\n",
    "        print(\"-\")\n",
    "train(models, X_train, y_train)\n",
    "    \n",
    "    "
   ]
  },
  {
   "cell_type": "code",
   "execution_count": 100,
   "id": "0c000a04-9dcb-44c2-a161-b5e2a4825a82",
   "metadata": {},
   "outputs": [],
   "source": [
    "# define a to plot a confusion matrix for the model\n",
    "def plot_confusion_matrix(model):\n",
    "    for name , model in models.items():\n",
    "        print(name, \":\")\n",
    "    \n",
    "    # create a confusion matrix\n",
    "    # pass the actual and predicted target values to the confusion_matrix()\n",
    "   \n",
    "        model.fit(X,y)\n",
    "        y_pred_prob = model.predict(X_test)\n",
    "        y_pred = [0 if x < 0.5 else 1 for x in y_pred_prob]\n",
    "        cm = confusion_matrix(y_test, y_pred)\n",
    "\n",
    "    # label the confusion matrix  \n",
    "    # pass the matrix as 'data'\n",
    "    # pass the required column names to the parameter, 'columns'\n",
    "    # pass the required row names to the parameter, 'index'\n",
    "        conf_matrix = pd.DataFrame(data = cm,columns = ['Predicted:0','Predicted:1'], index = ['Actual:0','Actual:1'])\n",
    "\n",
    "    # plot a heatmap to visualize the confusion matrix\n",
    "    # 'annot' prints the value of each grid \n",
    "    # 'fmt = d' returns the integer value in each grid\n",
    "    # 'cmap' assigns color to each grid\n",
    "    # as we do not require different colors for each grid in the heatmap,\n",
    "    # use 'ListedColormap' to assign the specified color to the grid\n",
    "    # 'cbar = False' will not return the color bar to the right side of the heatmap\n",
    "    # 'linewidths' assigns the width to the line that divides each grid\n",
    "    # 'annot_kws = {'size':25})' assigns the font size of the annotated text \n",
    "        sns.heatmap(conf_matrix, annot = True, fmt = 'd', cbar = False, \n",
    "                linewidths = 0.1, annot_kws = {'size':25})\n",
    "\n",
    "    # set the font size of x-axis ticks using 'fontsize'\n",
    "        plt.xticks(fontsize = 20)\n",
    "\n",
    "    # set the font size of y-axis ticks using 'fontsize'\n",
    "        plt.yticks(fontsize = 20)\n",
    "\n",
    "    # display the plot\n",
    "        plt.show()"
   ]
  },
  {
   "cell_type": "code",
   "execution_count": null,
   "id": "7c96db60-7cfb-4de7-af59-4194494e366e",
   "metadata": {
    "tags": []
   },
   "outputs": [],
   "source": []
  },
  {
   "cell_type": "code",
   "execution_count": 101,
   "id": "920e1059-e8b0-4379-a010-69cbabccfb71",
   "metadata": {},
   "outputs": [
    {
     "name": "stdout",
     "output_type": "stream",
     "text": [
      "LogisticRegression :\n"
     ]
    },
    {
     "data": {
      "image/png": "[encoded data removed]",
      "text/plain": [
       "<Figure size 432x288 with 1 Axes>"
      ]
     },
     "metadata": {
      "needs_background": "light"
     },
     "output_type": "display_data"
    },
    {
     "name": "stdout",
     "output_type": "stream",
     "text": [
      "KNeighborsClassifier :\n"
     ]
    },
    {
     "data": {
      "image/png": "[encoded data removed]",
      "text/plain": [
       "<Figure size 432x288 with 1 Axes>"
      ]
     },
     "metadata": {
      "needs_background": "light"
     },
     "output_type": "display_data"
    },
    {
     "name": "stdout",
     "output_type": "stream",
     "text": [
      "SVC :\n"
     ]
    },
    {
     "data": {
      "image/png": "[encoded data removed]",
      "text/plain": [
       "<Figure size 432x288 with 1 Axes>"
      ]
     },
     "metadata": {
      "needs_background": "light"
     },
     "output_type": "display_data"
    },
    {
     "name": "stdout",
     "output_type": "stream",
     "text": [
      "DecisionTreeClassifier :\n"
     ]
    },
    {
     "data": {
      "image/png": "[encoded data removed]",
      "text/plain": [
       "<Figure size 432x288 with 1 Axes>"
      ]
     },
     "metadata": {
      "needs_background": "light"
     },
     "output_type": "display_data"
    }
   ],
   "source": [
    "plot_confusion_matrix(models)"
   ]
  },
  {
   "cell_type": "code",
   "execution_count": 102,
   "id": "0bb9c844-3b84-4566-a28b-42839c627fa7",
   "metadata": {},
   "outputs": [],
   "source": [
    "#Lets do feture engineering to improve the model"
   ]
  },
  {
   "cell_type": "code",
   "execution_count": 103,
   "id": "72afbdc4-2b6f-4554-8bce-6fa9696688f2",
   "metadata": {},
   "outputs": [
    {
     "data": {
      "image/png": "[encoded data removed]",
      "text/plain": [
       "<Figure size 720x504 with 2 Axes>"
      ]
     },
     "metadata": {
      "needs_background": "light"
     },
     "output_type": "display_data"
    }
   ],
   "source": [
    "plt.figure(figsize=(10,7))\n",
    "sns.heatmap(corr, annot=True);"
   ]
  },
  {
   "cell_type": "code",
   "execution_count": 104,
   "id": "3bd10e40-2228-4504-8d6e-2fd74a83d90e",
   "metadata": {},
   "outputs": [],
   "source": [
    "#Feature engineering\n",
    "# as we can see credit history is corelating with the target varibale lets remove the credit history and chek the effect on the model"
   ]
  },
  {
   "cell_type": "code",
   "execution_count": 105,
   "id": "9b7cd450-4532-4c1a-b94d-c17cd9926c04",
   "metadata": {},
   "outputs": [],
   "source": [
    "X_feture = X.drop(\"Credit_History\", axis = 1)"
   ]
  },
  {
   "cell_type": "code",
   "execution_count": 106,
   "id": "b1d05d27-5504-4961-9405-09547395804f",
   "metadata": {},
   "outputs": [
    {
     "data": {
      "text/plain": [
       "(559, 10)"
      ]
     },
     "execution_count": 106,
     "metadata": {},
     "output_type": "execute_result"
    }
   ],
   "source": [
    "X_feture.shape"
   ]
  },
  {
   "cell_type": "code",
   "execution_count": 107,
   "id": "e0c6e158-9e6f-46b9-b540-7003acac92fd",
   "metadata": {},
   "outputs": [
    {
     "name": "stdout",
     "output_type": "stream",
     "text": [
      "X_train shape (374, 10)\n",
      "y_train shape (374,)\n",
      "X_test shape (185, 10)\n",
      "y_test shape (185,)\n"
     ]
    }
   ],
   "source": [
    "from sklearn.model_selection import train_test_split\n",
    "X_train, X_test, y_train, y_test = train_test_split(X_feture, y, test_size=0.33, random_state=42)\n",
    "print('X_train shape', X_train.shape)\n",
    "print('y_train shape', y_train.shape)\n",
    "print('X_test shape', X_test.shape)\n",
    "print('y_test shape', y_test.shape)"
   ]
  },
  {
   "cell_type": "code",
   "execution_count": 108,
   "id": "29cc8a45-55d2-44dd-915b-c4b11a9abfca",
   "metadata": {},
   "outputs": [
    {
     "name": "stdout",
     "output_type": "stream",
     "text": [
      "LogisticRegression :\n",
      "  pre: 0.000\n",
      "  rec: 0.000\n",
      "  f1: 0.000\n",
      "  loss: 9.708\n",
      "  acc: 0.719 \n",
      "-\n",
      "KNeighborsClassifier :\n",
      "  pre: 0.321\n",
      "  rec: 0.173\n",
      "  f1: 0.225\n",
      "  loss: 11.575\n",
      "  acc: 0.665 \n",
      "-\n",
      "SVC :\n",
      "  pre: 0.000\n",
      "  rec: 0.000\n",
      "  f1: 0.000\n",
      "  loss: 9.708\n",
      "  acc: 0.719 \n",
      "-\n",
      "DecisionTreeClassifier :\n",
      "  pre: 0.333\n",
      "  rec: 0.019\n",
      "  f1: 0.036\n",
      "  loss: 9.895\n",
      "  acc: 0.714 \n",
      "-\n"
     ]
    }
   ],
   "source": [
    "train(models, X_train, y_train)"
   ]
  },
  {
   "cell_type": "markdown",
   "id": "26e59beb-a232-47a9-998e-766731f2d7ea",
   "metadata": {},
   "source": [
    "AS we can see that the model accuracy has decreased so we will go with the 1st modeland it seem to me that the Credit History was one of the important varible.\n",
    "In the 1st model DecisionTreeClassifier is the best and the second best is Logistic Regression and svm is overfitting and all the values has been identified as zero.\n"
   ]
  },
  {
   "cell_type": "markdown",
   "id": "b51685d8-05a6-4d27-ad51-62e9e2b4ef65",
   "metadata": {},
   "source": [
    "## Now lets change the threshold vale to 0.7 to chek the performace of the model\n"
   ]
  },
  {
   "cell_type": "code",
   "execution_count": 110,
   "id": "6737a82d-0533-402a-b58b-17c1dd3184ea",
   "metadata": {},
   "outputs": [
    {
     "name": "stdout",
     "output_type": "stream",
     "text": [
      "LogisticRegression :\n",
      "  pre: 0.000\n",
      "  rec: 0.000\n",
      "  f1: 0.000\n",
      "  loss: 9.708\n",
      "  acc: 0.719 \n",
      "-\n",
      "KNeighborsClassifier :\n",
      "  pre: 0.321\n",
      "  rec: 0.173\n",
      "  f1: 0.225\n",
      "  loss: 11.575\n",
      "  acc: 0.665 \n",
      "-\n",
      "SVC :\n",
      "  pre: 0.000\n",
      "  rec: 0.000\n",
      "  f1: 0.000\n",
      "  loss: 9.708\n",
      "  acc: 0.719 \n",
      "-\n",
      "DecisionTreeClassifier :\n",
      "  pre: 0.333\n",
      "  rec: 0.019\n",
      "  f1: 0.036\n",
      "  loss: 9.895\n",
      "  acc: 0.714 \n",
      "-\n"
     ]
    }
   ],
   "source": [
    "# now lets train the model\n",
    "def train_threshold(models, X, y):\n",
    "    for name , model in models.items():\n",
    "        print(name, \":\")\n",
    "        model.fit(X,y)\n",
    "        y_pred_prob = model.predict(X_test)\n",
    "        y_pred = [0 if x < 0.7 else 1 for x in y_pred_prob]\n",
    "        loss(y_test,y_pred)\n",
    "        print(\"-\")\n",
    "train_threshold(models, X_train, y_train)\n",
    "    "
   ]
  },
  {
   "cell_type": "code",
   "execution_count": 111,
   "id": "2445c0f6-566c-47e6-ada8-64281ce7e766",
   "metadata": {},
   "outputs": [],
   "source": [
    "# after changing the threshold to their is no change in the accuracy of the model .. the best accuracy is achived at the the threshold of 0.5.\n",
    "# this can also be the resone because of less amount of the data for traning and testing \n",
    "# In SVM ther is the case of overfiting of the model"
   ]
  },
  {
   "cell_type": "markdown",
   "id": "b0295f40-78b3-43df-9349-8104dc87c9d6",
   "metadata": {},
   "source": [
    "# Despite feature engineering the model accuracy show no change instead the accuracy decreased. Thus we can conclude that the first model had the good accuracy and within that only two models - Decision Tree and other one is Logistic Regression - were good classifiers.\n",
    "\n",
    "# What ever we do, our recall score will not improve. This maybe because we don't have a good amount of data, therefore I think if we get more data and we try more complex models our accuracy will improve.\n",
    "\n",
    "# We can see that SVC is just memorizing the data and is the case of Overfitting, and you can see that here DecisionTreeClassifier is better than LogisticRegression.\n"
   ]
  },
  {
   "cell_type": "code",
   "execution_count": null,
   "id": "fe8b7e0e-3c6b-4413-8431-77bc76fe0451",
   "metadata": {},
   "outputs": [],
   "source": []
  }
 ],
 "metadata": {
  "kernelspec": {
   "display_name": "Python 3 (ipykernel)",
   "language": "python",
   "name": "python3"
  },
  "language_info": {
   "codemirror_mode": {
    "name": "ipython",
    "version": 3
   },
   "file_extension": ".py",
   "mimetype": "text/x-python",
   "name": "python",
   "nbconvert_exporter": "python",
   "pygments_lexer": "ipython3",
   "version": "3.9.7"
  }
 },
 "nbformat": 4,
 "nbformat_minor": 5
}
